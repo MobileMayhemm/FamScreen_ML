{
 "cells": [
  {
   "cell_type": "markdown",
   "metadata": {},
   "source": [
    "# CITRA DATA"
   ]
  },
  {
   "cell_type": "markdown",
   "metadata": {},
   "source": [
    "### Path Data"
   ]
  },
  {
   "cell_type": "code",
   "execution_count": null,
   "metadata": {},
   "outputs": [],
   "source": [
    "import os\n",
    "import cv2\n",
    "import numpy as np\n",
    "import pandas as pd\n",
    "import random\n",
    "from skimage.feature import local_binary_pattern\n",
    "\n",
    "# Path dataset\n",
    "dataset_path = \"data_mentah/\""
   ]
  },
  {
   "cell_type": "markdown",
   "metadata": {},
   "source": [
    "# FUNGSI PROGRAM"
   ]
  },
  {
   "cell_type": "markdown",
   "metadata": {},
   "source": [
    "### Load Haar Cascade"
   ]
  },
  {
   "cell_type": "code",
   "execution_count": 75,
   "metadata": {},
   "outputs": [],
   "source": [
    "# Load Haar Cascade classifier untuk deteksi wajah\n",
    "face_cascade = cv2.CascadeClassifier(cv2.data.haarcascades + \"haarcascade_frontalface_default.xml\")"
   ]
  },
  {
   "cell_type": "markdown",
   "metadata": {},
   "source": [
    "### Fungsi Klasifikasi Kelompok Umur , Ekstraksi Fitur, dan Augmentasi Gambar"
   ]
  },
  {
   "cell_type": "code",
   "execution_count": 76,
   "metadata": {},
   "outputs": [],
   "source": [
    "# Fungsi untuk mengonversi umur menjadi kategori umur\n",
    "def categorize_age(age):\n",
    "       if 1 <= age <= 10:\n",
    "              return 0  # Anak-anak\n",
    "       elif 11 <= age <= 18:\n",
    "              return 1  # Remaja\n",
    "       elif 19 <= age <= 59:\n",
    "              return 2  # Dewasa\n",
    "       return -1  # Label tidak valid\n",
    "\n",
    "# Fungsi untuk ekstraksi fitur LBP\n",
    "def extract_lbp_features(image, radius=2, n_points=16) :\n",
    "    # Hitung LBP pada gambar\n",
    "    lbp = local_binary_pattern(image, n_points, radius, method=\"uniform\")\n",
    "    \n",
    "    # Hitung histogram dari LBP\n",
    "    lbp_hist, _ = np.histogram(lbp.ravel(), bins=np.arange(0, n_points + 3), range=(0, n_points + 2))\n",
    "    \n",
    "    # Normalisasi histogram\n",
    "    lbp_hist = lbp_hist.astype(\"float\")\n",
    "    lbp_hist /= (lbp_hist.sum() + 1e-6)  # Normalisasi agar jumlah histogram = 1\n",
    "    return lbp_hist"
   ]
  },
  {
   "cell_type": "markdown",
   "metadata": {},
   "source": [
    "# DATA PROCESSING & EKSTRAKSI FITUR"
   ]
  },
  {
   "cell_type": "markdown",
   "metadata": {},
   "source": [
    "### Read Gambar dan Menyimpannya di List"
   ]
  },
  {
   "cell_type": "code",
   "execution_count": null,
   "metadata": {},
   "outputs": [],
   "source": [
    "# Inisialisasi list untuk menyimpan data\n",
    "data = []\n",
    "\n",
    "# Mendapatkan daftar file gambar dalam folder dataset\n",
    "image_files = [f for f in os.listdir(dataset_path) if f.endswith((\".jpg\", \".png\"))]\n",
    "image_data_by_age = {}\n",
    "\n",
    "# Mengelompokkan gambar berdasarkan kategori umur\n",
    "for image_file in image_files:\n",
    "    parts = image_file.split('_')\n",
    "    age = int(parts[0])  # Mengambil usia dari nama file\n",
    "    age_category = categorize_age(age)\n",
    "    \n",
    "    if age_category != -1:\n",
    "        if age_category not in image_data_by_age:\n",
    "            image_data_by_age[age_category] = []\n",
    "        image_data_by_age[age_category].append(image_file)\n",
    "\n",
    "# Proses gambar yang ada untuk ekstraksi fitur\n",
    "for age_category, files in image_data_by_age.items():\n",
    "    for image_file in files:\n",
    "        image_path = os.path.join(dataset_path, image_file)\n",
    "        \n",
    "        # Baca gambar dan konversi ke grayscale\n",
    "        image = cv2.imread(image_path)\n",
    "        gray_image = cv2.cvtColor(image, cv2.COLOR_BGR2GRAY)  # Ubah ke grayscale untuk LBP\n",
    "        \n",
    "        # Deteksi wajah\n",
    "        face_cascade = cv2.CascadeClassifier(cv2.data.haarcascades + 'haarcascade_frontalface_default.xml')\n",
    "        faces = face_cascade.detectMultiScale(gray_image, scaleFactor=1.1, minNeighbors=5, minSize=(30, 30))\n",
    "\n",
    "        # Jika wajah terdeteksi, crop wajah dan simpan\n",
    "        if len(faces) > 0:\n",
    "            for (x, y, w, h) in faces:\n",
    "                # Crop wajah\n",
    "                face_image = gray_image[y:y+h, x:x+w]\n",
    "                face_image = cv2.resize(face_image, (256, 256))  # Resize wajah agar konsisten\n",
    "                \n",
    "                # Ekstraksi fitur LBP\n",
    "                lbp_features = extract_lbp_features(face_image)\n",
    "                \n",
    "                # Menggabungkan label umur dan fitur LBP ke dalam list data\n",
    "                data.append([age_category] + lbp_features.tolist())"
   ]
  },
  {
   "cell_type": "markdown",
   "metadata": {},
   "source": [
    "### Menyimpan Data Gambar ke File CSV"
   ]
  },
  {
   "cell_type": "code",
   "execution_count": 78,
   "metadata": {},
   "outputs": [],
   "source": [
    "# Konversi ke DataFrame Pandas dan simpan ke CSV\n",
    "df = pd.DataFrame(data, columns=['age_category'] + [f'pixel_{i}' for i in range(len(lbp_features))])\n",
    "df.to_csv(\"df_sampled.csv\", index=False)"
   ]
  },
  {
   "cell_type": "markdown",
   "metadata": {},
   "source": [
    "# DATA CLEANING"
   ]
  },
  {
   "cell_type": "markdown",
   "metadata": {},
   "source": [
    "### Read Data CSV"
   ]
  },
  {
   "cell_type": "code",
   "execution_count": 79,
   "metadata": {},
   "outputs": [
    {
     "name": "stdout",
     "output_type": "stream",
     "text": [
      "   age_category   pixel_0   pixel_1   pixel_2   pixel_3   pixel_4   pixel_5  \\\n",
      "0             2  0.014923  0.010956  0.013580  0.020996  0.022141  0.036484   \n",
      "1             2  0.006012  0.005386  0.008789  0.015045  0.017365  0.029877   \n",
      "2             2  0.013046  0.008926  0.014648  0.019180  0.020386  0.033203   \n",
      "3             2  0.012726  0.009689  0.013809  0.017944  0.018997  0.037750   \n",
      "4             2  0.009262  0.008698  0.010132  0.016251  0.019974  0.034317   \n",
      "\n",
      "    pixel_6   pixel_7   pixel_8  ...  pixel_10  pixel_11  pixel_12  pixel_13  \\\n",
      "0  0.057861  0.133835  0.209763  ...  0.072601  0.049622  0.031128  0.024506   \n",
      "1  0.053024  0.143723  0.255569  ...  0.071793  0.051544  0.026215  0.017914   \n",
      "2  0.055893  0.125168  0.202744  ...  0.064774  0.059372  0.029968  0.027100   \n",
      "3  0.057602  0.126038  0.172119  ...  0.075287  0.068192  0.033752  0.027084   \n",
      "4  0.060394  0.149597  0.261627  ...  0.068604  0.043777  0.025558  0.020309   \n",
      "\n",
      "   pixel_14  pixel_15  pixel_16  pixel_17    pixel_18   pixel_19  \n",
      "0  0.016830  0.009628  0.028946  0.083481  152.577301  35.361671  \n",
      "1  0.012115  0.005859  0.026001  0.045074  136.904648  36.960581  \n",
      "2  0.018738  0.010406  0.044693  0.081116  136.844147  51.520480  \n",
      "3  0.019455  0.011276  0.049622  0.082382  133.130157  39.749996  \n",
      "4  0.013199  0.007187  0.020950  0.056046  109.829849  48.341903  \n",
      "\n",
      "[5 rows x 21 columns]\n"
     ]
    }
   ],
   "source": [
    "# Membaca data dari CSV\n",
    "df = pd.read_csv(\"df_sampled.csv\")\n",
    "print(df.head())"
   ]
  },
  {
   "cell_type": "markdown",
   "metadata": {},
   "source": [
    "### Cek Informasi Data"
   ]
  },
  {
   "cell_type": "code",
   "execution_count": 80,
   "metadata": {},
   "outputs": [
    {
     "name": "stdout",
     "output_type": "stream",
     "text": [
      "<class 'pandas.core.frame.DataFrame'>\n",
      "RangeIndex: 335 entries, 0 to 334\n",
      "Data columns (total 21 columns):\n",
      " #   Column        Non-Null Count  Dtype  \n",
      "---  ------        --------------  -----  \n",
      " 0   age_category  335 non-null    int64  \n",
      " 1   pixel_0       335 non-null    float64\n",
      " 2   pixel_1       335 non-null    float64\n",
      " 3   pixel_2       335 non-null    float64\n",
      " 4   pixel_3       335 non-null    float64\n",
      " 5   pixel_4       335 non-null    float64\n",
      " 6   pixel_5       335 non-null    float64\n",
      " 7   pixel_6       335 non-null    float64\n",
      " 8   pixel_7       335 non-null    float64\n",
      " 9   pixel_8       335 non-null    float64\n",
      " 10  pixel_9       335 non-null    float64\n",
      " 11  pixel_10      335 non-null    float64\n",
      " 12  pixel_11      335 non-null    float64\n",
      " 13  pixel_12      335 non-null    float64\n",
      " 14  pixel_13      335 non-null    float64\n",
      " 15  pixel_14      335 non-null    float64\n",
      " 16  pixel_15      335 non-null    float64\n",
      " 17  pixel_16      335 non-null    float64\n",
      " 18  pixel_17      335 non-null    float64\n",
      " 19  pixel_18      335 non-null    float64\n",
      " 20  pixel_19      335 non-null    float64\n",
      "dtypes: float64(20), int64(1)\n",
      "memory usage: 55.1 KB\n"
     ]
    }
   ],
   "source": [
    "df.info()"
   ]
  },
  {
   "cell_type": "markdown",
   "metadata": {},
   "source": [
    "#### Analisis Statistik Deskriptif"
   ]
  },
  {
   "cell_type": "code",
   "execution_count": 81,
   "metadata": {},
   "outputs": [
    {
     "data": {
      "text/html": [
       "<div>\n",
       "<style scoped>\n",
       "    .dataframe tbody tr th:only-of-type {\n",
       "        vertical-align: middle;\n",
       "    }\n",
       "\n",
       "    .dataframe tbody tr th {\n",
       "        vertical-align: top;\n",
       "    }\n",
       "\n",
       "    .dataframe thead th {\n",
       "        text-align: right;\n",
       "    }\n",
       "</style>\n",
       "<table border=\"1\" class=\"dataframe\">\n",
       "  <thead>\n",
       "    <tr style=\"text-align: right;\">\n",
       "      <th></th>\n",
       "      <th>age_category</th>\n",
       "      <th>pixel_0</th>\n",
       "      <th>pixel_1</th>\n",
       "      <th>pixel_2</th>\n",
       "      <th>pixel_3</th>\n",
       "      <th>pixel_4</th>\n",
       "      <th>pixel_5</th>\n",
       "      <th>pixel_6</th>\n",
       "      <th>pixel_7</th>\n",
       "      <th>pixel_8</th>\n",
       "      <th>...</th>\n",
       "      <th>pixel_10</th>\n",
       "      <th>pixel_11</th>\n",
       "      <th>pixel_12</th>\n",
       "      <th>pixel_13</th>\n",
       "      <th>pixel_14</th>\n",
       "      <th>pixel_15</th>\n",
       "      <th>pixel_16</th>\n",
       "      <th>pixel_17</th>\n",
       "      <th>pixel_18</th>\n",
       "      <th>pixel_19</th>\n",
       "    </tr>\n",
       "  </thead>\n",
       "  <tbody>\n",
       "    <tr>\n",
       "      <th>count</th>\n",
       "      <td>335.000000</td>\n",
       "      <td>335.000000</td>\n",
       "      <td>335.000000</td>\n",
       "      <td>335.000000</td>\n",
       "      <td>335.000000</td>\n",
       "      <td>335.000000</td>\n",
       "      <td>335.000000</td>\n",
       "      <td>335.000000</td>\n",
       "      <td>335.000000</td>\n",
       "      <td>335.000000</td>\n",
       "      <td>...</td>\n",
       "      <td>335.000000</td>\n",
       "      <td>335.000000</td>\n",
       "      <td>335.000000</td>\n",
       "      <td>335.000000</td>\n",
       "      <td>335.000000</td>\n",
       "      <td>335.000000</td>\n",
       "      <td>335.000000</td>\n",
       "      <td>335.000000</td>\n",
       "      <td>335.000000</td>\n",
       "      <td>335.000000</td>\n",
       "    </tr>\n",
       "    <tr>\n",
       "      <th>mean</th>\n",
       "      <td>0.979104</td>\n",
       "      <td>0.022037</td>\n",
       "      <td>0.015885</td>\n",
       "      <td>0.017142</td>\n",
       "      <td>0.019646</td>\n",
       "      <td>0.020461</td>\n",
       "      <td>0.032761</td>\n",
       "      <td>0.050757</td>\n",
       "      <td>0.112496</td>\n",
       "      <td>0.183718</td>\n",
       "      <td>...</td>\n",
       "      <td>0.061749</td>\n",
       "      <td>0.048420</td>\n",
       "      <td>0.028652</td>\n",
       "      <td>0.023976</td>\n",
       "      <td>0.021523</td>\n",
       "      <td>0.015844</td>\n",
       "      <td>0.053457</td>\n",
       "      <td>0.127512</td>\n",
       "      <td>141.394886</td>\n",
       "      <td>48.436626</td>\n",
       "    </tr>\n",
       "    <tr>\n",
       "      <th>std</th>\n",
       "      <td>0.809476</td>\n",
       "      <td>0.016315</td>\n",
       "      <td>0.010214</td>\n",
       "      <td>0.007234</td>\n",
       "      <td>0.006022</td>\n",
       "      <td>0.005553</td>\n",
       "      <td>0.005180</td>\n",
       "      <td>0.008250</td>\n",
       "      <td>0.027263</td>\n",
       "      <td>0.061729</td>\n",
       "      <td>...</td>\n",
       "      <td>0.012425</td>\n",
       "      <td>0.013636</td>\n",
       "      <td>0.005159</td>\n",
       "      <td>0.005479</td>\n",
       "      <td>0.006933</td>\n",
       "      <td>0.009398</td>\n",
       "      <td>0.027478</td>\n",
       "      <td>0.084745</td>\n",
       "      <td>27.811745</td>\n",
       "      <td>12.048871</td>\n",
       "    </tr>\n",
       "    <tr>\n",
       "      <th>min</th>\n",
       "      <td>0.000000</td>\n",
       "      <td>0.000076</td>\n",
       "      <td>0.000183</td>\n",
       "      <td>0.001099</td>\n",
       "      <td>0.000977</td>\n",
       "      <td>0.002151</td>\n",
       "      <td>0.012589</td>\n",
       "      <td>0.014389</td>\n",
       "      <td>0.022614</td>\n",
       "      <td>0.033752</td>\n",
       "      <td>...</td>\n",
       "      <td>0.018295</td>\n",
       "      <td>0.015259</td>\n",
       "      <td>0.012009</td>\n",
       "      <td>0.004822</td>\n",
       "      <td>0.005676</td>\n",
       "      <td>0.002533</td>\n",
       "      <td>0.014374</td>\n",
       "      <td>0.003311</td>\n",
       "      <td>39.167252</td>\n",
       "      <td>11.299569</td>\n",
       "    </tr>\n",
       "    <tr>\n",
       "      <th>25%</th>\n",
       "      <td>0.000000</td>\n",
       "      <td>0.010117</td>\n",
       "      <td>0.008858</td>\n",
       "      <td>0.012093</td>\n",
       "      <td>0.016174</td>\n",
       "      <td>0.017639</td>\n",
       "      <td>0.029686</td>\n",
       "      <td>0.045586</td>\n",
       "      <td>0.094810</td>\n",
       "      <td>0.138794</td>\n",
       "      <td>...</td>\n",
       "      <td>0.054276</td>\n",
       "      <td>0.039764</td>\n",
       "      <td>0.025665</td>\n",
       "      <td>0.020470</td>\n",
       "      <td>0.016212</td>\n",
       "      <td>0.009117</td>\n",
       "      <td>0.034851</td>\n",
       "      <td>0.067749</td>\n",
       "      <td>122.303009</td>\n",
       "      <td>40.599466</td>\n",
       "    </tr>\n",
       "    <tr>\n",
       "      <th>50%</th>\n",
       "      <td>1.000000</td>\n",
       "      <td>0.016724</td>\n",
       "      <td>0.012283</td>\n",
       "      <td>0.016022</td>\n",
       "      <td>0.019547</td>\n",
       "      <td>0.020477</td>\n",
       "      <td>0.032913</td>\n",
       "      <td>0.052109</td>\n",
       "      <td>0.119171</td>\n",
       "      <td>0.187836</td>\n",
       "      <td>...</td>\n",
       "      <td>0.063339</td>\n",
       "      <td>0.047241</td>\n",
       "      <td>0.028488</td>\n",
       "      <td>0.024185</td>\n",
       "      <td>0.020523</td>\n",
       "      <td>0.011826</td>\n",
       "      <td>0.046143</td>\n",
       "      <td>0.096695</td>\n",
       "      <td>142.183411</td>\n",
       "      <td>49.402781</td>\n",
       "    </tr>\n",
       "    <tr>\n",
       "      <th>75%</th>\n",
       "      <td>2.000000</td>\n",
       "      <td>0.032532</td>\n",
       "      <td>0.023399</td>\n",
       "      <td>0.022415</td>\n",
       "      <td>0.023880</td>\n",
       "      <td>0.024361</td>\n",
       "      <td>0.036385</td>\n",
       "      <td>0.056953</td>\n",
       "      <td>0.132996</td>\n",
       "      <td>0.225967</td>\n",
       "      <td>...</td>\n",
       "      <td>0.070053</td>\n",
       "      <td>0.054253</td>\n",
       "      <td>0.031227</td>\n",
       "      <td>0.027588</td>\n",
       "      <td>0.026794</td>\n",
       "      <td>0.022118</td>\n",
       "      <td>0.063622</td>\n",
       "      <td>0.182587</td>\n",
       "      <td>157.497955</td>\n",
       "      <td>56.505442</td>\n",
       "    </tr>\n",
       "    <tr>\n",
       "      <th>max</th>\n",
       "      <td>2.000000</td>\n",
       "      <td>0.083649</td>\n",
       "      <td>0.060837</td>\n",
       "      <td>0.034576</td>\n",
       "      <td>0.033157</td>\n",
       "      <td>0.035736</td>\n",
       "      <td>0.047272</td>\n",
       "      <td>0.066666</td>\n",
       "      <td>0.164230</td>\n",
       "      <td>0.360779</td>\n",
       "      <td>...</td>\n",
       "      <td>0.102402</td>\n",
       "      <td>0.110199</td>\n",
       "      <td>0.055496</td>\n",
       "      <td>0.037338</td>\n",
       "      <td>0.036133</td>\n",
       "      <td>0.054962</td>\n",
       "      <td>0.177582</td>\n",
       "      <td>0.479401</td>\n",
       "      <td>211.830460</td>\n",
       "      <td>80.465166</td>\n",
       "    </tr>\n",
       "  </tbody>\n",
       "</table>\n",
       "<p>8 rows × 21 columns</p>\n",
       "</div>"
      ],
      "text/plain": [
       "       age_category     pixel_0     pixel_1     pixel_2     pixel_3  \\\n",
       "count    335.000000  335.000000  335.000000  335.000000  335.000000   \n",
       "mean       0.979104    0.022037    0.015885    0.017142    0.019646   \n",
       "std        0.809476    0.016315    0.010214    0.007234    0.006022   \n",
       "min        0.000000    0.000076    0.000183    0.001099    0.000977   \n",
       "25%        0.000000    0.010117    0.008858    0.012093    0.016174   \n",
       "50%        1.000000    0.016724    0.012283    0.016022    0.019547   \n",
       "75%        2.000000    0.032532    0.023399    0.022415    0.023880   \n",
       "max        2.000000    0.083649    0.060837    0.034576    0.033157   \n",
       "\n",
       "          pixel_4     pixel_5     pixel_6     pixel_7     pixel_8  ...  \\\n",
       "count  335.000000  335.000000  335.000000  335.000000  335.000000  ...   \n",
       "mean     0.020461    0.032761    0.050757    0.112496    0.183718  ...   \n",
       "std      0.005553    0.005180    0.008250    0.027263    0.061729  ...   \n",
       "min      0.002151    0.012589    0.014389    0.022614    0.033752  ...   \n",
       "25%      0.017639    0.029686    0.045586    0.094810    0.138794  ...   \n",
       "50%      0.020477    0.032913    0.052109    0.119171    0.187836  ...   \n",
       "75%      0.024361    0.036385    0.056953    0.132996    0.225967  ...   \n",
       "max      0.035736    0.047272    0.066666    0.164230    0.360779  ...   \n",
       "\n",
       "         pixel_10    pixel_11    pixel_12    pixel_13    pixel_14    pixel_15  \\\n",
       "count  335.000000  335.000000  335.000000  335.000000  335.000000  335.000000   \n",
       "mean     0.061749    0.048420    0.028652    0.023976    0.021523    0.015844   \n",
       "std      0.012425    0.013636    0.005159    0.005479    0.006933    0.009398   \n",
       "min      0.018295    0.015259    0.012009    0.004822    0.005676    0.002533   \n",
       "25%      0.054276    0.039764    0.025665    0.020470    0.016212    0.009117   \n",
       "50%      0.063339    0.047241    0.028488    0.024185    0.020523    0.011826   \n",
       "75%      0.070053    0.054253    0.031227    0.027588    0.026794    0.022118   \n",
       "max      0.102402    0.110199    0.055496    0.037338    0.036133    0.054962   \n",
       "\n",
       "         pixel_16    pixel_17    pixel_18    pixel_19  \n",
       "count  335.000000  335.000000  335.000000  335.000000  \n",
       "mean     0.053457    0.127512  141.394886   48.436626  \n",
       "std      0.027478    0.084745   27.811745   12.048871  \n",
       "min      0.014374    0.003311   39.167252   11.299569  \n",
       "25%      0.034851    0.067749  122.303009   40.599466  \n",
       "50%      0.046143    0.096695  142.183411   49.402781  \n",
       "75%      0.063622    0.182587  157.497955   56.505442  \n",
       "max      0.177582    0.479401  211.830460   80.465166  \n",
       "\n",
       "[8 rows x 21 columns]"
      ]
     },
     "execution_count": 81,
     "metadata": {},
     "output_type": "execute_result"
    }
   ],
   "source": [
    "# Menampilkan statistik deskriptif dari dataset\n",
    "df.describe(include=\"all\")"
   ]
  },
  {
   "cell_type": "code",
   "execution_count": 82,
   "metadata": {},
   "outputs": [
    {
     "data": {
      "text/plain": [
       "Series([], dtype: int64)"
      ]
     },
     "execution_count": 82,
     "metadata": {},
     "output_type": "execute_result"
    }
   ],
   "source": [
    "# Memeriksa jumlah nilai yang hilang di setiap kolom\n",
    "missing_values = df.isnull().sum()\n",
    "missing_values[missing_values > 0]"
   ]
  },
  {
   "cell_type": "markdown",
   "metadata": {},
   "source": [
    "#### Cek Data Duplikat"
   ]
  },
  {
   "cell_type": "code",
   "execution_count": null,
   "metadata": {},
   "outputs": [
    {
     "name": "stdout",
     "output_type": "stream",
     "text": [
      "Jumlah data setelah menghapus duplikat: 335\n"
     ]
    }
   ],
   "source": [
    "# Menghapus baris duplikat\n",
    "df = df.drop_duplicates()\n",
    "\n",
    "# Memeriksa apakah ada duplikat\n",
    "print(f\"Jumlah data setelah menghapus duplikat: {df.shape[0]}\")"
   ]
  },
  {
   "cell_type": "markdown",
   "metadata": {},
   "source": [
    "#### Memeriksa Konsistensi Kategori Usia"
   ]
  },
  {
   "cell_type": "code",
   "execution_count": null,
   "metadata": {},
   "outputs": [
    {
     "name": "stdout",
     "output_type": "stream",
     "text": [
      "age_category\n",
      "1    116\n",
      "0    113\n",
      "2    106\n",
      "Name: count, dtype: int64\n"
     ]
    }
   ],
   "source": [
    "# Memeriksa distribusi kategori usia\n",
    "print(df['age_category'].value_counts())"
   ]
  },
  {
   "cell_type": "markdown",
   "metadata": {},
   "source": [
    "# DATA SPLITTING"
   ]
  },
  {
   "cell_type": "code",
   "execution_count": null,
   "metadata": {},
   "outputs": [],
   "source": [
    "from imblearn.over_sampling import SMOTE\n",
    "from sklearn.model_selection import train_test_split\n",
    "\n",
    "# Memisahkan fitur dan target\n",
    "X = df.drop(columns=['age_category'])\n",
    "y = df['age_category']\n",
    "\n",
    "# Menggunakan SMOTE untuk menyeimbangkan kategori\n",
    "smote = SMOTE(random_state=42)\n",
    "X_resampled, y_resampled = smote.fit_resample(X, y)\n",
    "\n",
    "# Split data yang telah diseimbangkan\n",
    "X_train, X_test, y_train, y_test = train_test_split(X_resampled, y_resampled, test_size=0.1, random_state=42)"
   ]
  },
  {
   "cell_type": "markdown",
   "metadata": {},
   "source": [
    "# PELATIHAN MODEL (RANDOM FOREST)"
   ]
  },
  {
   "cell_type": "code",
   "execution_count": null,
   "metadata": {},
   "outputs": [
    {
     "name": "stdout",
     "output_type": "stream",
     "text": [
      "Akurasi Model Random Forest: 51.42857142857142 %\n",
      "\n",
      "Classification Report:\n",
      "               precision    recall  f1-score   support\n",
      "\n",
      "           0       0.54      0.70      0.61        10\n",
      "           1       0.75      0.38      0.50        16\n",
      "           2       0.36      0.56      0.43         9\n",
      "\n",
      "    accuracy                           0.51        35\n",
      "   macro avg       0.55      0.54      0.51        35\n",
      "weighted avg       0.59      0.51      0.51        35\n",
      "\n"
     ]
    }
   ],
   "source": [
    "from sklearn.ensemble import RandomForestClassifier\n",
    "from sklearn.metrics import accuracy_score, classification_report\n",
    "\n",
    "# Inisialisasi model Random Forest dengan parameter awal\n",
    "model = RandomForestClassifier(n_estimators=120, random_state=42, class_weight='balanced')\n",
    "\n",
    "# Melatih model\n",
    "model.fit(X_train, y_train)\n",
    "\n",
    "# Evaluasi model\n",
    "y_pred = model.predict(X_test)\n",
    "accuracy = accuracy_score(y_test, y_pred)\n",
    "print(\"Akurasi Model Random Forest:\", accuracy * 100, \"%\")\n",
    "print(\"\\nClassification Report:\\n\", classification_report(y_test, y_pred))"
   ]
  },
  {
   "cell_type": "code",
   "execution_count": null,
   "metadata": {},
   "outputs": [
    {
     "data": {
      "image/png": "[encoded data removed]",
      "text/plain": [
       "<Figure size 640x480 with 2 Axes>"
      ]
     },
     "metadata": {},
     "output_type": "display_data"
    }
   ],
   "source": [
    "from sklearn.metrics import confusion_matrix\n",
    "import seaborn as sns\n",
    "import matplotlib.pyplot as plt\n",
    "\n",
    "# Confusion Matrix\n",
    "cm = confusion_matrix(y_test, y_pred)\n",
    "sns.heatmap(cm, annot=True, fmt='d', cmap='Blues', xticklabels=['Anak-anak', 'Remaja', 'Dewasa'], yticklabels=['Anak-anak', 'Remaja', 'Dewasa'])\n",
    "plt.xlabel('Prediksi')\n",
    "plt.ylabel('Sebenarnya')\n",
    "plt.show()"
   ]
  },
  {
   "cell_type": "code",
   "execution_count": null,
   "metadata": {},
   "outputs": [
    {
     "data": {
      "text/plain": [
       "['famscreen_model.pkl']"
      ]
     },
     "execution_count": 88,
     "metadata": {},
     "output_type": "execute_result"
    }
   ],
   "source": [
    "import joblib\n",
    "\n",
    "# Menyimpan model\n",
    "joblib.dump(model, \"famscreen_model.pkl\")"
   ]
  },
  {
   "cell_type": "code",
   "execution_count": null,
   "metadata": {},
   "outputs": [],
   "source": [
    "# Memuat model Random Forest yang telah disimpan\n",
    "model = joblib.load('famscreen_model.pkl')\n",
    "face_cascade = cv2.CascadeClassifier(cv2.data.haarcascades + \"haarcascade_frontalface_default.xml\")"
   ]
  },
  {
   "cell_type": "markdown",
   "metadata": {},
   "source": [
    "# PENGUJIAN MENGGUNAKAN INPUTAN GAMBAR DARI APLIKASI"
   ]
  },
  {
   "cell_type": "code",
   "execution_count": null,
   "metadata": {},
   "outputs": [
    {
     "name": "stderr",
     "output_type": "stream",
     "text": [
      "[ WARN:0@1687.081] global loadsave.cpp:241 findDecoder imread_('D:\\Belajar Machine Learning\\famscreen_ml\\images\\imageFile_anak.jpg'): can't open/read file: check file path/integrity\n"
     ]
    },
    {
     "ename": "error",
     "evalue": "OpenCV(4.10.0) /Users/xperience/GHA-Actions-OpenCV/_work/opencv-python/opencv-python/opencv/modules/imgproc/src/color.cpp:196: error: (-215:Assertion failed) !_src.empty() in function 'cvtColor'\n",
     "output_type": "error",
     "traceback": [
      "\u001b[0;31m---------------------------------------------------------------------------\u001b[0m",
      "\u001b[0;31merror\u001b[0m                                     Traceback (most recent call last)",
      "Cell \u001b[0;32mIn[90], line 55\u001b[0m\n\u001b[1;32m     53\u001b[0m \u001b[38;5;66;03m# Contoh penggunaan deteksi dengan inputan gambar baru\u001b[39;00m\n\u001b[1;32m     54\u001b[0m image_path \u001b[38;5;241m=\u001b[39m \u001b[38;5;124m\"\u001b[39m\u001b[38;5;124mD:\u001b[39m\u001b[38;5;130;01m\\\\\u001b[39;00m\u001b[38;5;124mBelajar Machine Learning\u001b[39m\u001b[38;5;130;01m\\\\\u001b[39;00m\u001b[38;5;124mfamscreen_ml\u001b[39m\u001b[38;5;130;01m\\\\\u001b[39;00m\u001b[38;5;124mimages\u001b[39m\u001b[38;5;130;01m\\\\\u001b[39;00m\u001b[38;5;124mimageFile_anak.jpg\u001b[39m\u001b[38;5;124m\"\u001b[39m  \n\u001b[0;32m---> 55\u001b[0m detected_age_category, predicted_age_label \u001b[38;5;241m=\u001b[39m \u001b[43mdetect_and_predict\u001b[49m\u001b[43m(\u001b[49m\u001b[43mimage_path\u001b[49m\u001b[43m,\u001b[49m\u001b[43m \u001b[49m\u001b[43mmodel\u001b[49m\u001b[43m,\u001b[49m\u001b[43m \u001b[49m\u001b[43mface_cascade\u001b[49m\u001b[43m)\u001b[49m\n\u001b[1;32m     57\u001b[0m \u001b[38;5;28;01mif\u001b[39;00m detected_age_category \u001b[38;5;129;01mis\u001b[39;00m \u001b[38;5;129;01mnot\u001b[39;00m \u001b[38;5;28;01mNone\u001b[39;00m:\n\u001b[1;32m     58\u001b[0m     \u001b[38;5;28mprint\u001b[39m(\u001b[38;5;124mf\u001b[39m\u001b[38;5;124m\"\u001b[39m\u001b[38;5;124mKategori Umur Prediksi: \u001b[39m\u001b[38;5;132;01m{\u001b[39;00mpredicted_age_label\u001b[38;5;132;01m}\u001b[39;00m\u001b[38;5;124m\"\u001b[39m)\n",
      "Cell \u001b[0;32mIn[90], line 19\u001b[0m, in \u001b[0;36mdetect_and_predict\u001b[0;34m(image_path, model, face_cascade, radius, n_points)\u001b[0m\n\u001b[1;32m     16\u001b[0m \u001b[38;5;28;01mdef\u001b[39;00m \u001b[38;5;21mdetect_and_predict\u001b[39m(image_path, model, face_cascade, radius\u001b[38;5;241m=\u001b[39m\u001b[38;5;241m2\u001b[39m, n_points\u001b[38;5;241m=\u001b[39m\u001b[38;5;241m16\u001b[39m):\n\u001b[1;32m     17\u001b[0m     \u001b[38;5;66;03m# Membaca gambar dan konversi ke grayscale\u001b[39;00m\n\u001b[1;32m     18\u001b[0m     image \u001b[38;5;241m=\u001b[39m cv2\u001b[38;5;241m.\u001b[39mimread(image_path)\n\u001b[0;32m---> 19\u001b[0m     gray_image \u001b[38;5;241m=\u001b[39m \u001b[43mcv2\u001b[49m\u001b[38;5;241;43m.\u001b[39;49m\u001b[43mcvtColor\u001b[49m\u001b[43m(\u001b[49m\u001b[43mimage\u001b[49m\u001b[43m,\u001b[49m\u001b[43m \u001b[49m\u001b[43mcv2\u001b[49m\u001b[38;5;241;43m.\u001b[39;49m\u001b[43mCOLOR_BGR2GRAY\u001b[49m\u001b[43m)\u001b[49m\n\u001b[1;32m     21\u001b[0m     \u001b[38;5;66;03m# Deteksi wajah dalam gambar\u001b[39;00m\n\u001b[1;32m     22\u001b[0m     faces \u001b[38;5;241m=\u001b[39m face_cascade\u001b[38;5;241m.\u001b[39mdetectMultiScale(gray_image, scaleFactor\u001b[38;5;241m=\u001b[39m\u001b[38;5;241m1.1\u001b[39m, minNeighbors\u001b[38;5;241m=\u001b[39m\u001b[38;5;241m5\u001b[39m, minSize\u001b[38;5;241m=\u001b[39m(\u001b[38;5;241m30\u001b[39m, \u001b[38;5;241m30\u001b[39m))\n",
      "\u001b[0;31merror\u001b[0m: OpenCV(4.10.0) /Users/xperience/GHA-Actions-OpenCV/_work/opencv-python/opencv-python/opencv/modules/imgproc/src/color.cpp:196: error: (-215:Assertion failed) !_src.empty() in function 'cvtColor'\n"
     ]
    }
   ],
   "source": [
    "import matplotlib.pyplot as plt\n",
    "import cv2\n",
    "import numpy as np\n",
    "\n",
    "# Fungsi untuk mengubah angka prediksi menjadi kategori usia (label teks)\n",
    "def age_category_to_label(age_category):\n",
    "    if age_category == 0:\n",
    "        return \"Anak-anak\"\n",
    "    elif age_category == 1:\n",
    "        return \"Remaja\"\n",
    "    elif age_category == 2:\n",
    "        return \"Dewasa\"\n",
    "    return \"Tidak Valid\"\n",
    "\n",
    "# Fungsi untuk mendeteksi wajah dan ekstraksi fitur LBP dari gambar baru\n",
    "def detect_and_predict(image_path, model, face_cascade, radius=2, n_points=16):\n",
    "    # Membaca gambar dan konversi ke grayscale\n",
    "    image = cv2.imread(image_path)\n",
    "    gray_image = cv2.cvtColor(image, cv2.COLOR_BGR2GRAY)\n",
    "\n",
    "    # Deteksi wajah dalam gambar\n",
    "    faces = face_cascade.detectMultiScale(gray_image, scaleFactor=1.1, minNeighbors=5, minSize=(30, 30))\n",
    "\n",
    "    # Jika wajah terdeteksi\n",
    "    if len(faces) > 0:\n",
    "        for (x, y, w, h) in faces:\n",
    "            # Crop wajah\n",
    "            face_image = gray_image[y:y+h, x:x+w]\n",
    "            cv2.rectangle(image, (x, y), (x + w, y + h), (0, 255, 0), 2)\n",
    "            face_image_resized = cv2.resize(face_image, (256, 256))\n",
    "\n",
    "            # Ekstraksi fitur LBP dari wajah yang sudah diaugmentasi\n",
    "            lbp_features = extract_lbp_features(face_image_resized, radius=radius, n_points=n_points)\n",
    "\n",
    "            # Prediksi menggunakan model Random Forest\n",
    "            prediction = model.predict([lbp_features])  # Model menerima array 2D, jadi fitur LBP harus dalam list\n",
    "            predicted_age_category = prediction[0]\n",
    "            \n",
    "            # Mengonversi angka prediksi menjadi kategori usia (label teks)\n",
    "            predicted_age_label = age_category_to_label(predicted_age_category)\n",
    "\n",
    "            # Visualisasi hasil\n",
    "            plt.imshow(cv2.cvtColor(image, cv2.COLOR_BGR2RGB))\n",
    "            plt.title(f'Prediksi Umur: {predicted_age_label}')\n",
    "            plt.axis('off')\n",
    "            plt.show()\n",
    "\n",
    "            return predicted_age_category, predicted_age_label\n",
    "    else:\n",
    "        print(\"Tidak ada wajah yang terdeteksi dalam gambar.\")\n",
    "        return None, None\n",
    "\n",
    "# Contoh penggunaan deteksi dengan inputan gambar baru\n",
    "image_path = \"D:\\\\Belajar Machine Learning\\\\famscreen_ml\\\\images\\\\imageFile_anak.jpg\"  \n",
    "detected_age_category, predicted_age_label = detect_and_predict(image_path, model, face_cascade)\n",
    "\n",
    "if detected_age_category is not None:\n",
    "    print(f\"Kategori Umur Prediksi: {predicted_age_label}\")"
   ]
  },
  {
   "cell_type": "code",
   "execution_count": null,
   "metadata": {},
   "outputs": [],
   "source": []
  }
 ],
 "metadata": {
  "kernelspec": {
   "display_name": "myenv",
   "language": "python",
   "name": "python3"
  },
  "language_info": {
   "codemirror_mode": {
    "name": "ipython",
    "version": 3
   },
   "file_extension": ".py",
   "mimetype": "text/x-python",
   "name": "python",
   "nbconvert_exporter": "python",
   "pygments_lexer": "ipython3",
   "version": "3.9.6"
  }
 },
 "nbformat": 4,
 "nbformat_minor": 2
}
