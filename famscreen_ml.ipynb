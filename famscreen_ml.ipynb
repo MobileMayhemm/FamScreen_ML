{
 "cells": [
  {
   "cell_type": "markdown",
   "metadata": {},
   "source": [
    "# CITRA DATA"
   ]
  },
  {
   "cell_type": "markdown",
   "metadata": {},
   "source": [
    "### Path Data"
   ]
  },
  {
   "cell_type": "code",
   "execution_count": 2,
   "metadata": {},
   "outputs": [],
   "source": [
    "import os\n",
    "import cv2\n",
    "import numpy as np\n",
    "import pandas as pd\n",
    "import random\n",
    "from skimage.feature import local_binary_pattern\n",
    "\n",
    "# Path dataset\n",
    "dataset_path = \"data_mentah/\""
   ]
  },
  {
   "cell_type": "markdown",
   "metadata": {},
   "source": [
    "# FUNGSI PROGRAM"
   ]
  },
  {
   "cell_type": "markdown",
   "metadata": {},
   "source": [
    "### Fungsi Klasifikasi Kelompok Umur , Ekstraksi Fitur, dan Augmentasi Gambar"
   ]
  },
  {
   "cell_type": "code",
   "execution_count": 3,
   "metadata": {},
   "outputs": [],
   "source": [
    "# Fungsi untuk mengonversi umur menjadi kategori umur\n",
    "def categorize_age(age):\n",
    "       '''\n",
    "       Fungsi ini mengonversi umur menjadi kategori umur berdasarkan rentang usia.\n",
    "       Kategori usia yang dihasilkan:\n",
    "              0 - Anak-anak (1-10 tahun)\n",
    "              1 - Remaja (11-18 tahun)\n",
    "              2 - Dewasa (19-59 tahun)\n",
    "              -1 - Tidak valid (jika usia tidak dalam rentang yang ditentukan)\n",
    "       '''\n",
    "       if 1 <= age <= 10:\n",
    "              return 0  # Anak-anak\n",
    "       elif 11 <= age <= 18:\n",
    "              return 1  # Remaja\n",
    "       elif 19 <= age <= 59:\n",
    "              return 2  # Dewasa\n",
    "       return -1  # Label tidak valid\n",
    "\n",
    "# Fungsi untuk ekstraksi fitur LBP\n",
    "def extract_lbp_features(image, radius=2, n_points=16) :\n",
    "       \n",
    "       '''\n",
    "       Fungsi ini menghitung fitur LBP dari gambar untuk digunakan dalam pengenalan wajah.\n",
    "       LBP digunakan untuk mengekstraksi informasi tekstur dari gambar wajah.\n",
    "       \n",
    "       Parameter:\n",
    "       image - Gambar input dalam format grayscale.\n",
    "       radius - Jarak dari titik pusat pada LBP (default: 2).\n",
    "       n_points - Jumlah titik tetangga pada LBP (default: 16).\n",
    "       \n",
    "       Menghasilkan:\n",
    "       lbp_hist - Histogram yang dinormalisasi dari pola LBP.\n",
    "       '''\n",
    "       \n",
    "       # Hitung LBP pada gambar\n",
    "       lbp = local_binary_pattern(image, n_points, radius, method=\"uniform\")\n",
    "       \n",
    "       # Hitung histogram dari LBP\n",
    "       lbp_hist, _ = np.histogram(lbp.ravel(), bins=np.arange(0, n_points + 3), range=(0, n_points + 2))\n",
    "       \n",
    "       # Normalisasi histogram\n",
    "       lbp_hist = lbp_hist.astype(\"float\")\n",
    "       lbp_hist /= (lbp_hist.sum() + 1e-6)  # Normalisasi agar jumlah histogram = 1\n",
    "       return lbp_hist\n",
    "\n",
    "# Fungsi untuk enhancement citra\n",
    "def enhance_image(image):\n",
    "       \n",
    "       '''\n",
    "       Fungsi ini digunakan untuk meningkatkan kualitas gambar dengan menerapkan filter penajaman (sharpening).\n",
    "       Jika gambar berwarna (BGR), akan dikonversi ke grayscale terlebih dahulu.\n",
    "       \n",
    "       Parameter:\n",
    "       image - Gambar input yang bisa berupa gambar berwarna atau grayscale.\n",
    "       \n",
    "       Menghasilkan:\n",
    "       enhanced_img - Gambar yang telah ditingkatkan kualitasnya dengan filter sharpening.\n",
    "       '''\n",
    "       \n",
    "       # Periksa apakah citra sudah grayscale\n",
    "       if len(image.shape) == 3:  # Jika memiliki 3 kanal (BGR)\n",
    "              gray = cv2.cvtColor(image, cv2.COLOR_BGR2GRAY)\n",
    "       else:\n",
    "              gray = image  # Jika sudah grayscale, gunakan langsung\n",
    "       \n",
    "       # Mendefinisikan kernel sharpening (3x3)\n",
    "       kernel = np.array([\n",
    "              [0, -1, 0],\n",
    "              [-1, 5, -1],\n",
    "              [0, -1, 0]\n",
    "       ])\n",
    "       \n",
    "       # Melakukan operasi filter untuk sharpening\n",
    "       enhanced_img = cv2.filter2D(gray, -1, kernel)\n",
    "       \n",
    "       return enhanced_img"
   ]
  },
  {
   "cell_type": "markdown",
   "metadata": {},
   "source": [
    "# DATA PROCESSING & EKSTRAKSI FITUR"
   ]
  },
  {
   "cell_type": "markdown",
   "metadata": {},
   "source": [
    "### Read Gambar dan Menyimpannya di List"
   ]
  },
  {
   "cell_type": "code",
   "execution_count": 4,
   "metadata": {},
   "outputs": [],
   "source": [
    "# Inisialisasi list untuk menyimpan data\n",
    "data = []\n",
    "\n",
    "# Mendapatkan daftar file gambar dalam folder dataset\n",
    "image_files = [f for f in os.listdir(dataset_path) if f.endswith((\".jpg\", \".png\"))]\n",
    "image_data_by_age = {}\n",
    "\n",
    "# Mengelompokkan gambar berdasarkan kategori umur\n",
    "for image_file in image_files:\n",
    "    parts = image_file.split('_')\n",
    "    age = int(parts[0])  # Mengambil usia dari nama file\n",
    "    age_category = categorize_age(age)\n",
    "    \n",
    "    if age_category != -1:\n",
    "        if age_category not in image_data_by_age:\n",
    "            image_data_by_age[age_category] = []\n",
    "        image_data_by_age[age_category].append(image_file)\n",
    "\n",
    "# Proses gambar yang ada untuk ekstraksi fitur\n",
    "for age_category, files in image_data_by_age.items():\n",
    "    for image_file in files:\n",
    "        image_path = os.path.join(dataset_path, image_file)\n",
    "        \n",
    "        # Baca gambar dan konversi ke grayscale\n",
    "        image = cv2.imread(image_path)\n",
    "        gray_image = cv2.cvtColor(image, cv2.COLOR_BGR2GRAY)  # Ubah ke grayscale untuk LBP\n",
    "        \n",
    "        # Lakukan enhancement pada gambar\n",
    "        enhanced_img = enhance_image(gray_image)\n",
    "        \n",
    "        # Deteksi wajah\n",
    "        face_cascade = cv2.CascadeClassifier(cv2.data.haarcascades + 'haarcascade_frontalface_default.xml')\n",
    "        faces = face_cascade.detectMultiScale(enhanced_img, scaleFactor=1.1, minNeighbors=5, minSize=(30, 30))\n",
    "\n",
    "        # Jika wajah terdeteksi, crop wajah dan simpan\n",
    "        if len(faces) > 0:\n",
    "            for (x, y, w, h) in faces:\n",
    "                # Crop wajah\n",
    "                face_image = enhanced_img[y:y+h, x:x+w]\n",
    "                face_image = cv2.resize(face_image, (256, 256))  # Resize wajah agar konsisten\n",
    "                \n",
    "                # Ekstraksi fitur LBP\n",
    "                lbp_features = extract_lbp_features(face_image)\n",
    "                \n",
    "                # Menggabungkan label umur dan fitur LBP ke dalam list data\n",
    "                data.append([age_category] + lbp_features.tolist())"
   ]
  },
  {
   "cell_type": "markdown",
   "metadata": {},
   "source": [
    "### Menyimpan Data Gambar ke File CSV"
   ]
  },
  {
   "cell_type": "code",
   "execution_count": 5,
   "metadata": {},
   "outputs": [],
   "source": [
    "# Konversi ke DataFrame Pandas dan simpan ke CSV\n",
    "df = pd.DataFrame(data, columns=['age_category'] + [f'pixel_{i}' for i in range(len(lbp_features))])\n",
    "df.to_csv(\"df_sampled.csv\", index=False)"
   ]
  },
  {
   "cell_type": "markdown",
   "metadata": {},
   "source": [
    "# CEK INFORMASI DATA"
   ]
  },
  {
   "cell_type": "markdown",
   "metadata": {},
   "source": [
    "### Read Data CSV"
   ]
  },
  {
   "cell_type": "code",
   "execution_count": 6,
   "metadata": {},
   "outputs": [
    {
     "name": "stdout",
     "output_type": "stream",
     "text": [
      "   age_category   pixel_0   pixel_1   pixel_2   pixel_3   pixel_4   pixel_5  \\\n",
      "0             1  0.079910  0.052582  0.028976  0.018967  0.015472  0.017868   \n",
      "1             1  0.026154  0.019470  0.023331  0.026443  0.028564  0.038712   \n",
      "2             1  0.052902  0.035355  0.023117  0.016815  0.017944  0.025467   \n",
      "3             1  0.075363  0.044846  0.033310  0.022293  0.018692  0.020416   \n",
      "4             1  0.030167  0.022156  0.021393  0.023773  0.025482  0.036789   \n",
      "\n",
      "    pixel_6   pixel_7   pixel_8   pixel_9  pixel_10  pixel_11  pixel_12  \\\n",
      "0  0.022842  0.034851  0.048630  0.042404  0.025024  0.021805  0.019043   \n",
      "1  0.056015  0.109863  0.192642  0.130234  0.059433  0.039124  0.031494   \n",
      "2  0.035995  0.057861  0.072067  0.064041  0.035065  0.029861  0.021515   \n",
      "3  0.028229  0.041565  0.054016  0.044220  0.028824  0.021088  0.018524   \n",
      "4  0.056122  0.104660  0.147079  0.119156  0.060287  0.040314  0.028366   \n",
      "\n",
      "   pixel_13  pixel_14  pixel_15  pixel_16  pixel_17  \n",
      "0  0.021622  0.031113  0.049988  0.080185  0.388718  \n",
      "1  0.028488  0.021408  0.016571  0.031403  0.120651  \n",
      "2  0.021591  0.031296  0.038498  0.085144  0.335464  \n",
      "3  0.021667  0.034317  0.044052  0.078033  0.370544  \n",
      "4  0.024918  0.023270  0.017746  0.054581  0.163742  \n"
     ]
    }
   ],
   "source": [
    "# Membaca data dari CSV\n",
    "df = pd.read_csv(\"df_sampled.csv\")\n",
    "print(df.head())"
   ]
  },
  {
   "cell_type": "markdown",
   "metadata": {},
   "source": [
    "### Memeriksa Konsistensi Kategori Usia"
   ]
  },
  {
   "cell_type": "code",
   "execution_count": 7,
   "metadata": {},
   "outputs": [
    {
     "name": "stdout",
     "output_type": "stream",
     "text": [
      "age_category\n",
      "0    127\n",
      "2    118\n",
      "1    116\n",
      "Name: count, dtype: int64\n"
     ]
    }
   ],
   "source": [
    "# Memeriksa distribusi kategori usia\n",
    "print(df['age_category'].value_counts())"
   ]
  },
  {
   "cell_type": "markdown",
   "metadata": {},
   "source": [
    "# DATA SPLITTING"
   ]
  },
  {
   "cell_type": "code",
   "execution_count": 36,
   "metadata": {},
   "outputs": [],
   "source": [
    "from imblearn.over_sampling import SMOTE\n",
    "from sklearn.model_selection import train_test_split\n",
    "\n",
    "# Memisahkan fitur dan target\n",
    "X = df.drop(columns=['age_category'])\n",
    "y = df['age_category']\n",
    "\n",
    "# Menggunakan SMOTE untuk menyeimbangkan kategori\n",
    "smote = SMOTE(random_state=42)\n",
    "X_resampled, y_resampled = smote.fit_resample(X, y)\n",
    "\n",
    "# Split data yang telah diseimbangkan\n",
    "X_train, X_test, y_train, y_test = train_test_split(X_resampled, y_resampled, test_size=0.1, random_state=42)\n"
   ]
  },
  {
   "cell_type": "markdown",
   "metadata": {},
   "source": [
    "# PELATIHAN MODEL (RANDOM FOREST)"
   ]
  },
  {
   "cell_type": "code",
   "execution_count": 34,
   "metadata": {},
   "outputs": [
    {
     "name": "stdout",
     "output_type": "stream",
     "text": [
      "Akurasi Model Random Forest: 75.0 %\n",
      "\n",
      "Classification Report:\n",
      "               precision    recall  f1-score   support\n",
      "\n",
      "           0       0.50      1.00      0.67         1\n",
      "           1       1.00      0.50      0.67         2\n",
      "           2       1.00      1.00      1.00         1\n",
      "\n",
      "    accuracy                           0.75         4\n",
      "   macro avg       0.83      0.83      0.78         4\n",
      "weighted avg       0.88      0.75      0.75         4\n",
      "\n"
     ]
    }
   ],
   "source": [
    "from sklearn.ensemble import RandomForestClassifier\n",
    "from sklearn.metrics import accuracy_score, classification_report\n",
    "\n",
    "# Inisialisasi model Random Forest dengan parameter awal\n",
    "model = RandomForestClassifier(n_estimators=200, random_state=42, class_weight='balanced')\n",
    "\n",
    "# Melatih model\n",
    "model.fit(X_train, y_train)\n",
    "\n",
    "# Evaluasi model\n",
    "y_pred = model.predict(X_test)\n",
    "accuracy = accuracy_score(y_test, y_pred)\n",
    "print(\"Akurasi Model Random Forest:\", accuracy * 100, \"%\")\n",
    "print(\"\\nClassification Report:\\n\", classification_report(y_test, y_pred))"
   ]
  },
  {
   "cell_type": "code",
   "execution_count": null,
   "metadata": {},
   "outputs": [],
   "source": [
    "from sklearn.metrics import confusion_matrix\n",
    "import seaborn as sns\n",
    "import matplotlib.pyplot as plt\n",
    "\n",
    "# Confusion Matrix\n",
    "cm = confusion_matrix(y_test, y_pred)\n",
    "sns.heatmap(cm, annot=True, fmt='d', cmap='Blues', xticklabels=['Anak-anak', 'Remaja', 'Dewasa'], yticklabels=['Anak-anak', 'Remaja', 'Dewasa'])\n",
    "plt.xlabel('Prediksi')\n",
    "plt.ylabel('Sebenarnya')\n",
    "plt.show()"
   ]
  },
  {
   "cell_type": "code",
   "execution_count": null,
   "metadata": {},
   "outputs": [],
   "source": [
    "import joblib\n",
    "\n",
    "# Menyimpan model\n",
    "joblib.dump(model, \"famscreen_model.pkl\")"
   ]
  },
  {
   "cell_type": "code",
   "execution_count": null,
   "metadata": {},
   "outputs": [],
   "source": [
    "# Memuat model Random Forest yang telah disimpan\n",
    "model = joblib.load('famscreen_model.pkl')"
   ]
  },
  {
   "cell_type": "markdown",
   "metadata": {},
   "source": [
    "# PENGUJIAN MENGGUNAKAN INPUTAN GAMBAR DARI APLIKASI"
   ]
  },
  {
   "cell_type": "code",
   "execution_count": 69,
   "metadata": {},
   "outputs": [
    {
     "name": "stdout",
     "output_type": "stream",
     "text": [
      "Tidak ada wajah yang terdeteksi dalam gambar.\n"
     ]
    }
   ],
   "source": [
    "import matplotlib.pyplot as plt\n",
    "import cv2\n",
    "import numpy as np\n",
    "\n",
    "# Fungsi untuk mengubah angka prediksi menjadi kategori usia (label teks)\n",
    "def age_category_to_label(age_category):\n",
    "    if age_category == 0:\n",
    "        return \"Anak-anak\"\n",
    "    elif age_category == 1:\n",
    "        return \"Remaja\"\n",
    "    elif age_category == 2:\n",
    "        return \"Dewasa\"\n",
    "    return \"Tidak Valid\"\n",
    "\n",
    "# Fungsi untuk mendeteksi wajah dan ekstraksi fitur LBP dari gambar baru\n",
    "def detect_and_predict(image_path, model, face_cascade, radius=2, n_points=16):\n",
    "    # Membaca gambar dan konversi ke grayscale\n",
    "    image = cv2.imread(image_path)\n",
    "    gray_image = cv2.cvtColor(image, cv2.COLOR_BGR2GRAY)\n",
    "    \n",
    "    # Lakukan enhancement pada gambar\n",
    "    enhanced_img = enhance_image(gray_image)\n",
    "\n",
    "    # Deteksi wajah dalam gambar\n",
    "    faces = face_cascade.detectMultiScale(enhanced_img, scaleFactor=1.1, minNeighbors=5, minSize=(30, 30))\n",
    "\n",
    "    # Jika wajah terdeteksi\n",
    "    if len(faces) > 0:\n",
    "        for (x, y, w, h) in faces:\n",
    "            # Crop wajah\n",
    "            face_image = enhanced_img[y:y+h, x:x+w]\n",
    "            cv2.rectangle(image, (x, y), (x + w, y + h), (0, 255, 0), 2)\n",
    "            face_image_resized = cv2.resize(face_image, (256, 256))\n",
    "\n",
    "            # Ekstraksi fitur LBP dari wajah yang sudah diaugmentasi\n",
    "            lbp_features = extract_lbp_features(face_image_resized, radius=radius, n_points=n_points)\n",
    "\n",
    "            # Prediksi menggunakan model Random Forest\n",
    "            prediction = model.predict([lbp_features])  # Model menerima array 2D, jadi fitur LBP harus dalam list\n",
    "            predicted_age_category = prediction[0]\n",
    "            \n",
    "            # Mengonversi angka prediksi menjadi kategori usia (label teks)\n",
    "            predicted_age_label = age_category_to_label(predicted_age_category)\n",
    "\n",
    "            # Visualisasi hasil\n",
    "            plt.imshow(cv2.cvtColor(image, cv2.COLOR_BGR2RGB))\n",
    "            plt.title(f'Prediksi Umur: {predicted_age_label}')\n",
    "            plt.axis('off')\n",
    "            plt.show()\n",
    "\n",
    "            return predicted_age_category, predicted_age_label\n",
    "    else:\n",
    "        print(\"Tidak ada wajah yang terdeteksi dalam gambar.\")\n",
    "        return None, None\n",
    "\n",
    "# Contoh penggunaan deteksi dengan inputan gambar baru\n",
    "image_path = \"Images/imageFile.jpg\"  \n",
    "detected_age_category, predicted_age_label = detect_and_predict(image_path, model, face_cascade)\n",
    "\n",
    "if detected_age_category is not None:\n",
    "    print(f\"Kategori Umur Prediksi: {predicted_age_label}\")"
   ]
  },
  {
   "cell_type": "code",
   "execution_count": null,
   "metadata": {},
   "outputs": [],
   "source": []
  }
 ],
 "metadata": {
  "kernelspec": {
   "display_name": "penv",
   "language": "python",
   "name": "python3"
  },
  "language_info": {
   "codemirror_mode": {
    "name": "ipython",
    "version": 3
   },
   "file_extension": ".py",
   "mimetype": "text/x-python",
   "name": "python",
   "nbconvert_exporter": "python",
   "pygments_lexer": "ipython3",
   "version": "3.13.0"
  }
 },
 "nbformat": 4,
 "nbformat_minor": 2
}
