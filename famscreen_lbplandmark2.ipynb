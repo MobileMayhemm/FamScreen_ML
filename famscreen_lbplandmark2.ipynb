{
 "cells": [
  {
   "cell_type": "code",
   "execution_count": 1,
   "metadata": {},
   "outputs": [],
   "source": [
    "import os\n",
    "import cv2\n",
    "import numpy as np\n",
    "import pandas as pd\n",
    "import dlib\n",
    "from skimage.feature import local_binary_pattern\n",
    "from scipy.spatial import ConvexHull\n",
    "from imblearn.over_sampling import SMOTE\n",
    "from sklearn.model_selection import train_test_split\n",
    "from sklearn.ensemble import RandomForestClassifier\n",
    "from sklearn.metrics import accuracy_score, classification_report, confusion_matrix\n",
    "import seaborn as sns\n",
    "import matplotlib.pyplot as plt\n",
    "import joblib\n",
    "\n",
    "# Path dataset\n",
    "dataset_path = \"UTKFace/crop_part1/\""
   ]
  },
  {
   "cell_type": "code",
   "execution_count": 2,
   "metadata": {},
   "outputs": [],
   "source": [
    "# Fungsi untuk mengonversi umur menjadi kategori umur\n",
    "def categorize_age(age):\n",
    "    '''\n",
    "    Fungsi ini mengonversi umur menjadi kategori umur berdasarkan rentang usia.\n",
    "    Kategori usia yang dihasilkan:\n",
    "           0 - Anak-anak (1-10 tahun)\n",
    "           1 - Remaja (11-18 tahun)\n",
    "           2 - Dewasa (19-59 tahun)\n",
    "           -1 - Tidak valid (jika usia tidak dalam rentang yang ditentukan)\n",
    "    '''\n",
    "    if 1 <= age <= 10:\n",
    "        return 0  # Anak-anak\n",
    "    elif 11 <= age <= 18:\n",
    "        return 1  # Remaja\n",
    "    elif 19 <= age <= 59:\n",
    "        return 2  # Dewasa\n",
    "    return -1  # Label tidak valid\n",
    "\n",
    "# Fungsi untuk ekstraksi fitur LBP\n",
    "def extract_lbp_features(image, radius=2, n_points=16):\n",
    "    '''\n",
    "    Fungsi ini menghitung fitur LBP dari gambar untuk digunakan dalam pengenalan wajah.\n",
    "    LBP digunakan untuk mengekstraksi informasi tekstur dari gambar wajah.\n",
    "    \n",
    "    Parameter:\n",
    "    image - Gambar input dalam format grayscale.\n",
    "    radius - Jarak dari titik pusat pada LBP (default: 2).\n",
    "    n_points - Jumlah titik tetangga pada LBP (default: 16).\n",
    "    \n",
    "    Menghasilkan:\n",
    "    lbp_hist - Histogram yang dinormalisasi dari pola LBP.\n",
    "    '''\n",
    "    # Hitung LBP pada gambar\n",
    "    lbp = local_binary_pattern(image, n_points, radius, method=\"uniform\")\n",
    "    \n",
    "    # Hitung histogram dari LBP\n",
    "    lbp_hist, _ = np.histogram(lbp.ravel(), bins=np.arange(0, n_points + 3), range=(0, n_points + 2))\n",
    "    \n",
    "    # Normalisasi histogram\n",
    "    lbp_hist = lbp_hist.astype(\"float\")\n",
    "    lbp_hist /= (lbp_hist.sum() + 1e-6)  # Normalisasi agar jumlah histogram = 1\n",
    "    return lbp_hist\n",
    "\n",
    "# Fungsi untuk enhancement citra\n",
    "def enhance_image(image):\n",
    "    '''\n",
    "    Fungsi ini digunakan untuk meningkatkan kualitas gambar dengan menerapkan filter penajaman (sharpening).\n",
    "    Jika gambar berwarna (BGR), akan dikonversi ke grayscale terlebih dahulu.\n",
    "    \n",
    "    Parameter:\n",
    "    image - Gambar input yang bisa berupa gambar berwarna atau grayscale.\n",
    "    \n",
    "    Menghasilkan:\n",
    "    enhanced_img - Gambar yang telah ditingkatkan kualitasnya dengan filter sharpening.\n",
    "    '''\n",
    "    # Periksa apakah citra sudah grayscale\n",
    "    if len(image.shape) == 3:  # Jika memiliki 3 kanal (BGR)\n",
    "        gray = cv2.cvtColor(image, cv2.COLOR_BGR2GRAY)\n",
    "    else:\n",
    "        gray = image  # Jika sudah grayscale, gunakan langsung\n",
    "    \n",
    "    # Mendefinisikan kernel sharpening (3x3)\n",
    "    kernel = np.array([\n",
    "        [0, -1, 0],\n",
    "        [-1, 5, -1],\n",
    "        [0, -1, 0]\n",
    "    ])\n",
    "    \n",
    "    # Melakukan operasi filter untuk sharpening\n",
    "    enhanced_img = cv2.filter2D(gray, -1, kernel)\n",
    "    \n",
    "    return enhanced_img\n",
    "\n",
    "# Fungsi untuk mendeteksi wajah dan cropping menggunakan dlib\n",
    "def detect_face_dlib(img):\n",
    "    '''\n",
    "    Fungsi ini mendeteksi wajah menggunakan dlib setelah meningkatkan kualitas gambar \n",
    "    dengan filter sharpening (enhancement). Wajah yang terdeteksi akan dicrop berdasarkan bounding box.\n",
    "\n",
    "    Parameter:\n",
    "    img - Gambar input (BGR atau grayscale).\n",
    "    \n",
    "    Menghasilkan:\n",
    "    cropped_face - Gambar wajah yang telah dicrop (None jika tidak ada wajah terdeteksi).\n",
    "    '''\n",
    "    # Langkah 1: Enhance gambar terlebih dahulu\n",
    "    enhanced_img = enhance_image(img)\n",
    "    \n",
    "    # Langkah 2: Konversi gambar yang telah dienhance ke grayscale\n",
    "    if len(enhanced_img.shape) == 3:  # Jika gambar masih BGR\n",
    "        gray = cv2.cvtColor(enhanced_img, cv2.COLOR_BGR2GRAY)\n",
    "    else:\n",
    "        gray = enhanced_img  # Jika sudah grayscale, gunakan langsung\n",
    "    \n",
    "    # Langkah 3: Detektor wajah dlib\n",
    "    detector = dlib.get_frontal_face_detector()\n",
    "    predictor = dlib.shape_predictor(\"shape_predictor_68_face_landmarks.dat\")\n",
    "    \n",
    "    # Deteksi wajah\n",
    "    faces = detector(gray)\n",
    "    if len(faces) == 0:\n",
    "        return None  # Jika tidak ada wajah terdeteksi\n",
    "    \n",
    "    # Ambil wajah pertama yang terdeteksi\n",
    "    face = faces[0]\n",
    "    \n",
    "    # Prediksi landmarks untuk wajah yang terdeteksi\n",
    "    landmarks = predictor(gray, face)\n",
    "    landmarks_points = np.array([[p.x, p.y] for p in landmarks.parts()])\n",
    "    \n",
    "    # Menghitung convex hull dari landmarks wajah\n",
    "    convex_hull = ConvexHull(landmarks_points)\n",
    "    vertices = convex_hull.vertices\n",
    "    \n",
    "    # Membuat mask untuk wajah\n",
    "    mask = np.zeros(gray.shape, dtype=np.uint8)\n",
    "    cv2.fillPoly(mask, [landmarks_points[vertices]], 255)\n",
    "    \n",
    "    # Memotong wajah menggunakan bounding box dari mask\n",
    "    x, y, w, h = cv2.boundingRect(mask)\n",
    "    cropped_face = enhanced_img[y:y+h, x:x+w]  # Gunakan gambar yang telah dienhance\n",
    "    \n",
    "    return cropped_face"
   ]
  },
  {
   "cell_type": "code",
   "execution_count": null,
   "metadata": {},
   "outputs": [],
   "source": [
    "# Inisialisasi list untuk menyimpan data\n",
    "data = []\n",
    "\n",
    "# Mendapatkan daftar file gambar dalam folder dataset\n",
    "image_files = [f for f in os.listdir(dataset_path) if f.endswith((\".jpg\", \".png\"))]\n",
    "image_data_by_age = {}\n",
    "\n",
    "# Mengelompokkan gambar berdasarkan kategori umur\n",
    "for image_file in image_files:\n",
    "    parts = image_file.split('_')\n",
    "    age = int(parts[0])  # Mengambil usia dari nama file\n",
    "    age_category = categorize_age(age)\n",
    "    \n",
    "    if age_category != -1:\n",
    "        if age_category not in image_data_by_age:\n",
    "            image_data_by_age[age_category] = []\n",
    "        image_data_by_age[age_category].append(image_file)\n",
    "\n",
    "# Proses gambar yang ada untuk ekstraksi fitur\n",
    "for age_category, files in image_data_by_age.items():\n",
    "    for image_file in files:\n",
    "        image_path = os.path.join(dataset_path, image_file)\n",
    "        \n",
    "        # Baca gambar dan konversi ke grayscale\n",
    "        image = cv2.imread(image_path)\n",
    "        \n",
    "        # Menggunakan fungsi detect_face_dlib untuk mendeteksi wajah dan crop\n",
    "        cropped_face = detect_face_dlib(image)\n",
    "        \n",
    "        if cropped_face is not None:\n",
    "            # Lakukan enhancement pada gambar wajah yang sudah dipotong\n",
    "            enhanced_img = enhance_image(cropped_face)\n",
    "            \n",
    "            # Ekstraksi fitur LBP\n",
    "            lbp_features = extract_lbp_features(enhanced_img)\n",
    "            \n",
    "            # Menggabungkan label umur dan fitur LBP ke dalam list data\n",
    "            data.append([age_category] + lbp_features.tolist())\n"
   ]
  },
  {
   "cell_type": "code",
   "execution_count": null,
   "metadata": {},
   "outputs": [
    {
     "ename": "NameError",
     "evalue": "name 'data' is not defined",
     "output_type": "error",
     "traceback": [
      "\u001b[0;31m---------------------------------------------------------------------------\u001b[0m",
      "\u001b[0;31mNameError\u001b[0m                                 Traceback (most recent call last)",
      "Cell \u001b[0;32mIn[11], line 2\u001b[0m\n\u001b[1;32m      1\u001b[0m \u001b[38;5;66;03m# Konversi ke DataFrame Pandas dan simpan ke CSV\u001b[39;00m\n\u001b[0;32m----> 2\u001b[0m df \u001b[38;5;241m=\u001b[39m pd\u001b[38;5;241m.\u001b[39mDataFrame(\u001b[43mdata\u001b[49m, columns\u001b[38;5;241m=\u001b[39m[\u001b[38;5;124m'\u001b[39m\u001b[38;5;124mage_category\u001b[39m\u001b[38;5;124m'\u001b[39m] \u001b[38;5;241m+\u001b[39m [\u001b[38;5;124mf\u001b[39m\u001b[38;5;124m'\u001b[39m\u001b[38;5;124mpixel_\u001b[39m\u001b[38;5;132;01m{\u001b[39;00mi\u001b[38;5;132;01m}\u001b[39;00m\u001b[38;5;124m'\u001b[39m \u001b[38;5;28;01mfor\u001b[39;00m i \u001b[38;5;129;01min\u001b[39;00m \u001b[38;5;28mrange\u001b[39m(\u001b[38;5;28mlen\u001b[39m(lbp_features))])\n\u001b[1;32m      3\u001b[0m df\u001b[38;5;241m.\u001b[39mto_csv(\u001b[38;5;124m\"\u001b[39m\u001b[38;5;124mper2/df_sampled.csv\u001b[39m\u001b[38;5;124m\"\u001b[39m, index\u001b[38;5;241m=\u001b[39m\u001b[38;5;28;01mFalse\u001b[39;00m)\n",
      "\u001b[0;31mNameError\u001b[0m: name 'data' is not defined"
     ]
    }
   ],
   "source": [
    "# Konversi ke DataFrame Pandas dan simpan ke CSV\n",
    "df = pd.DataFrame(data, columns=['age_category'] + [f'pixel_{i}' for i in range(len(lbp_features))])\n",
    "df.to_csv(\"per2/df_sampled.csv\", index=False)"
   ]
  },
  {
   "cell_type": "code",
   "execution_count": null,
   "metadata": {},
   "outputs": [
    {
     "name": "stdout",
     "output_type": "stream",
     "text": [
      "   age_category   pixel_0   pixel_1   pixel_2   pixel_3   pixel_4   pixel_5  \\\n",
      "0             0  0.086635  0.078847  0.021067  0.009187  0.005096  0.005455   \n",
      "1             0  0.088534  0.081544  0.018162  0.009164  0.004950  0.004348   \n",
      "2             0  0.088962  0.082695  0.018768  0.007686  0.003642  0.004754   \n",
      "3             0  0.081232  0.077879  0.021215  0.010197  0.006604  0.006022   \n",
      "4             0  0.094909  0.082474  0.015567  0.004913  0.002579  0.001934   \n",
      "\n",
      "    pixel_6   pixel_7   pixel_8   pixel_9  pixel_10  pixel_11  pixel_12  \\\n",
      "0  0.005383  0.006209  0.007824  0.008757  0.005993  0.005993  0.005706   \n",
      "1  0.005820  0.008730  0.009833  0.010536  0.005954  0.007158  0.005285   \n",
      "2  0.004630  0.006328  0.008026  0.010310  0.005093  0.006019  0.004476   \n",
      "3  0.005543  0.011223  0.012216  0.013516  0.007596  0.008794  0.005954   \n",
      "4  0.003193  0.004329  0.005005  0.007185  0.003163  0.008904  0.004360   \n",
      "\n",
      "   pixel_13  pixel_14  pixel_15  pixel_16  pixel_17  \n",
      "0  0.009941  0.022036  0.071562  0.086492  0.557817  \n",
      "1  0.009767  0.019801  0.074119  0.084989  0.551308  \n",
      "2  0.008458  0.016607  0.077911  0.105908  0.539727  \n",
      "3  0.011737  0.020838  0.069427  0.089923  0.540086  \n",
      "4  0.009979  0.018239  0.082903  0.107744  0.542619  \n"
     ]
    }
   ],
   "source": [
    "# Membaca data dari CSV\n",
    "df = pd.read_csv(\"per2/df_sampled.csv\")\n",
    "print(df.head())"
   ]
  },
  {
   "cell_type": "code",
   "execution_count": null,
   "metadata": {},
   "outputs": [
    {
     "name": "stdout",
     "output_type": "stream",
     "text": [
      "age_category\n",
      "2    4202\n",
      "0    3011\n",
      "1    1014\n",
      "Name: count, dtype: int64\n"
     ]
    }
   ],
   "source": [
    "# Memeriksa distribusi kategori usia\n",
    "print(df['age_category'].value_counts())"
   ]
  },
  {
   "cell_type": "code",
   "execution_count": null,
   "metadata": {},
   "outputs": [],
   "source": [
    "# Memisahkan fitur dan target\n",
    "X = df.drop(columns=['age_category'])\n",
    "y = df['age_category']\n",
    "\n",
    "# Menggunakan SMOTE untuk menyeimbangkan kategori\n",
    "smote = SMOTE(random_state=42)\n",
    "X_resampled, y_resampled = smote.fit_resample(X, y)\n",
    "\n",
    "# Split data yang telah diseimbangkan\n",
    "X_train, X_test, y_train, y_test = train_test_split(X_resampled, y_resampled, test_size=0.1, random_state=42)"
   ]
  },
  {
   "cell_type": "code",
   "execution_count": null,
   "metadata": {},
   "outputs": [
    {
     "name": "stdout",
     "output_type": "stream",
     "text": [
      "Akurasi Model Random Forest: 81.12609040444092 %\n",
      "\n",
      "Classification Report:\n",
      "               precision    recall  f1-score   support\n",
      "\n",
      "           0       0.83      0.77      0.80       438\n",
      "           1       0.82      0.89      0.86       413\n",
      "           2       0.78      0.78      0.78       410\n",
      "\n",
      "    accuracy                           0.81      1261\n",
      "   macro avg       0.81      0.81      0.81      1261\n",
      "weighted avg       0.81      0.81      0.81      1261\n",
      "\n"
     ]
    }
   ],
   "source": [
    "# Inisialisasi model Random Forest dengan parameter awal\n",
    "model = RandomForestClassifier(n_estimators=200, random_state=42, class_weight='balanced')\n",
    "\n",
    "# Melatih model\n",
    "model.fit(X_train, y_train)\n",
    "\n",
    "# Evaluasi model\n",
    "y_pred = model.predict(X_test)\n",
    "accuracy = accuracy_score(y_test, y_pred)\n",
    "print(\"Akurasi Model Random Forest:\", accuracy * 100, \"%\")\n",
    "print(\"\\nClassification Report:\\n\", classification_report(y_test, y_pred))"
   ]
  },
  {
   "cell_type": "code",
   "execution_count": null,
   "metadata": {},
   "outputs": [
    {
     "data": {
      "image/png": "[encoded data removed]",
      "text/plain": [
       "<Figure size 640x480 with 2 Axes>"
      ]
     },
     "metadata": {},
     "output_type": "display_data"
    }
   ],
   "source": [
    "# Confusion Matrix\n",
    "cm = confusion_matrix(y_test, y_pred)\n",
    "sns.heatmap(cm, annot=True, fmt='d', cmap='Blues', xticklabels=['Anak-anak', 'Remaja', 'Dewasa'], yticklabels=['Anak-anak', 'Remaja', 'Dewasa'])\n",
    "plt.xlabel('Prediksi')\n",
    "plt.ylabel('Sebenarnya')\n",
    "plt.show() "
   ]
  },
  {
   "cell_type": "code",
   "execution_count": null,
   "metadata": {},
   "outputs": [
    {
     "data": {
      "text/plain": [
       "['per2/famscreen_model.pkl']"
      ]
     },
     "execution_count": 17,
     "metadata": {},
     "output_type": "execute_result"
    }
   ],
   "source": [
    "# Menyimpan model\n",
    "joblib.dump(model, \"per2/famscreen_model.pkl\") \n"
   ]
  },
  {
   "cell_type": "code",
   "execution_count": null,
   "metadata": {},
   "outputs": [],
   "source": [
    "# Memuat model Random Forest yang telah disimpan\n",
    "model = joblib.load('per2/famscreen_model.pkl')"
   ]
  },
  {
   "cell_type": "code",
   "execution_count": null,
   "metadata": {},
   "outputs": [
    {
     "name": "stdout",
     "output_type": "stream",
     "text": [
      "[0 0 2 ... 1 0 1]\n"
     ]
    }
   ],
   "source": [
    "# Prediksi menggunakan model yang dimuat\n",
    "age_category_pred = model.predict(X_test)\n",
    "print(age_category_pred)"
   ]
  },
  {
   "cell_type": "code",
   "execution_count": null,
   "metadata": {},
   "outputs": [
    {
     "name": "stdout",
     "output_type": "stream",
     "text": [
      "Kategori usia yang diprediksi: 1\n"
     ]
    },
    {
     "name": "stderr",
     "output_type": "stream",
     "text": [
      "/Volumes/Lexar E6/Projek/FamScreen_ML/penv/lib/python3.13/site-packages/sklearn/base.py:493: UserWarning: X does not have valid feature names, but RandomForestClassifier was fitted with feature names\n",
      "  warnings.warn(\n"
     ]
    }
   ],
   "source": [
    "import cv2\n",
    "import dlib\n",
    "import numpy as np\n",
    "import joblib\n",
    "from skimage.feature import local_binary_pattern\n",
    "\n",
    "# Fungsi untuk ekstraksi fitur LBP (seperti yang sudah dijelaskan sebelumnya)\n",
    "def extract_lbp_features(image, radius=2, n_points=16):\n",
    "    lbp = local_binary_pattern(image, n_points, radius, method=\"uniform\")\n",
    "    lbp_hist, _ = np.histogram(lbp.ravel(), bins=np.arange(0, n_points + 3), range=(0, n_points + 2))\n",
    "    lbp_hist = lbp_hist.astype(\"float\")\n",
    "    lbp_hist /= (lbp_hist.sum() + 1e-6)  # Normalisasi\n",
    "    return lbp_hist\n",
    "\n",
    "# Fungsi untuk mendeteksi wajah dan cropping menggunakan dlib\n",
    "def detect_face_dlib(img):\n",
    "    if len(img.shape) == 3:\n",
    "        gray = cv2.cvtColor(img, cv2.COLOR_BGR2GRAY)\n",
    "    else:\n",
    "        gray = img\n",
    "    \n",
    "    detector = dlib.get_frontal_face_detector()\n",
    "    predictor = dlib.shape_predictor(\"shape_predictor_68_face_landmarks.dat\")\n",
    "    \n",
    "    faces = detector(gray)\n",
    "    if len(faces) == 0:\n",
    "        return None  # Tidak ada wajah terdeteksi\n",
    "    \n",
    "    face = faces[0]\n",
    "    landmarks = predictor(gray, face)\n",
    "    landmarks_points = np.array([[p.x, p.y] for p in landmarks.parts()])\n",
    "    \n",
    "    convex_hull = ConvexHull(landmarks_points)\n",
    "    vertices = convex_hull.vertices\n",
    "    \n",
    "    mask = np.zeros(gray.shape, dtype=np.uint8)\n",
    "    cv2.fillPoly(mask, [landmarks_points[vertices]], 255)\n",
    "    \n",
    "    x, y, w, h = cv2.boundingRect(mask)\n",
    "    cropped_face = img[y:y+h, x:x+w]\n",
    "    \n",
    "    return cropped_face\n",
    "\n",
    "# Fungsi untuk memproses gambar dan memprediksi\n",
    "def predict_age_category(image_path, model):\n",
    "    # Baca gambar\n",
    "    image = cv2.imread(image_path)\n",
    "    \n",
    "    # Deteksi wajah dan crop gambar wajah\n",
    "    cropped_face = detect_face_dlib(image)\n",
    "    \n",
    "    if cropped_face is not None:\n",
    "        # Ekstraksi fitur LBP dari gambar wajah yang terdeteksi\n",
    "        enhanced_img = cv2.cvtColor(cropped_face, cv2.COLOR_BGR2GRAY)  # Pastikan gambar grayscale\n",
    "        lbp_features = extract_lbp_features(enhanced_img)\n",
    "        \n",
    "        # Prediksi kategori umur menggunakan model\n",
    "        lbp_features = np.array(lbp_features).reshape(1, -1)  # Ubah menjadi format 2D untuk prediksi\n",
    "        age_category_pred = model.predict(lbp_features)\n",
    "        \n",
    "        return age_category_pred[0]\n",
    "    else:\n",
    "        return None  # Tidak ada wajah terdeteksi\n",
    "\n",
    "# Memuat model yang sudah disimpan\n",
    "model = joblib.load('famscreen_model.pkl')\n",
    "\n",
    "# Contoh menggunakan gambar baru untuk prediksi\n",
    "image_path = \"Images/imageFile.jpg\"  # Ganti dengan path gambar yang ingin diuji\n",
    "predicted_age_category = predict_age_category(image_path, model)\n",
    "\n",
    "if predicted_age_category is not None:\n",
    "    print(f\"Kategori usia yang diprediksi: {predicted_age_category}\")\n",
    "else:\n",
    "    print(\"Tidak ada wajah terdeteksi dalam gambar.\")\n"
   ]
  }
 ],
 "metadata": {
  "kernelspec": {
   "display_name": "penv",
   "language": "python",
   "name": "python3"
  },
  "language_info": {
   "codemirror_mode": {
    "name": "ipython",
    "version": 3
   },
   "file_extension": ".py",
   "mimetype": "text/x-python",
   "name": "python",
   "nbconvert_exporter": "python",
   "pygments_lexer": "ipython3",
   "version": "3.13.0"
  }
 },
 "nbformat": 4,
 "nbformat_minor": 2
}
