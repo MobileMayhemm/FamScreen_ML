{
 "cells": [
  {
   "cell_type": "code",
   "execution_count": 3,
   "metadata": {},
   "outputs": [],
   "source": [
    "import os\n",
    "import cv2\n",
    "import numpy as np\n",
    "import pandas as pd\n",
    "import dlib\n",
    "from skimage.feature import local_binary_pattern\n",
    "from scipy.spatial import ConvexHull\n",
    "from imblearn.over_sampling import SMOTE\n",
    "from sklearn.model_selection import train_test_split\n",
    "from sklearn.ensemble import RandomForestClassifier\n",
    "from sklearn.metrics import accuracy_score, classification_report, confusion_matrix\n",
    "import seaborn as sns\n",
    "import matplotlib.pyplot as plt\n",
    "import joblib\n",
    "\n",
    "# Path dataset\n",
    "dataset_path = \"UTKFace/crop_part1/\""
   ]
  },
  {
   "cell_type": "code",
   "execution_count": 4,
   "metadata": {},
   "outputs": [],
   "source": [
    "# Fungsi untuk mengonversi umur menjadi kategori umur\n",
    "def categorize_age(age):\n",
    "    '''\n",
    "    Fungsi ini mengonversi umur menjadi kategori umur berdasarkan rentang usia.\n",
    "    Kategori usia yang dihasilkan:\n",
    "           0 - Anak-anak (1-10 tahun)\n",
    "           1 - Remaja (11-18 tahun)\n",
    "           2 - Dewasa (19-59 tahun)\n",
    "           -1 - Tidak valid (jika usia tidak dalam rentang yang ditentukan)\n",
    "    '''\n",
    "    if 1 <= age <= 10:\n",
    "        return 0  # Anak-anak\n",
    "    elif 11 <= age <= 18:\n",
    "        return 1  # Remaja\n",
    "    elif 19 <= age <= 59:\n",
    "        return 2  # Dewasa\n",
    "    return -1  # Label tidak valid\n",
    "\n",
    "# Fungsi untuk ekstraksi fitur LBP\n",
    "def extract_lbp_features(image, radius=2, n_points=16):\n",
    "    '''\n",
    "    Fungsi ini menghitung fitur LBP dari gambar untuk digunakan dalam pengenalan wajah.\n",
    "    LBP digunakan untuk mengekstraksi informasi tekstur dari gambar wajah.\n",
    "    \n",
    "    Parameter:\n",
    "    image - Gambar input dalam format grayscale.\n",
    "    radius - Jarak dari titik pusat pada LBP (default: 2).\n",
    "    n_points - Jumlah titik tetangga pada LBP (default: 16).\n",
    "    \n",
    "    Menghasilkan:\n",
    "    lbp_hist - Histogram yang dinormalisasi dari pola LBP.\n",
    "    '''\n",
    "    # Hitung LBP pada gambar\n",
    "    lbp = local_binary_pattern(image, n_points, radius, method=\"uniform\")\n",
    "    \n",
    "    # Hitung histogram dari LBP\n",
    "    lbp_hist, _ = np.histogram(lbp.ravel(), bins=np.arange(0, n_points + 3), range=(0, n_points + 2))\n",
    "    \n",
    "    # Normalisasi histogram\n",
    "    lbp_hist = lbp_hist.astype(\"float\")\n",
    "    lbp_hist /= (lbp_hist.sum() + 1e-6)  # Normalisasi agar jumlah histogram = 1\n",
    "    return lbp_hist\n",
    "\n",
    "# Fungsi untuk enhancement citra\n",
    "def enhance_image(image):\n",
    "    '''\n",
    "    Fungsi ini digunakan untuk meningkatkan kualitas gambar dengan menerapkan filter penajaman (sharpening).\n",
    "    Jika gambar berwarna (BGR), akan dikonversi ke grayscale terlebih dahulu.\n",
    "    \n",
    "    Parameter:\n",
    "    image - Gambar input yang bisa berupa gambar berwarna atau grayscale.\n",
    "    \n",
    "    Menghasilkan:\n",
    "    enhanced_img - Gambar yang telah ditingkatkan kualitasnya dengan filter sharpening.\n",
    "    '''\n",
    "    # Periksa apakah citra sudah grayscale\n",
    "    if len(image.shape) == 3:  # Jika memiliki 3 kanal (BGR)\n",
    "        gray = cv2.cvtColor(image, cv2.COLOR_BGR2GRAY)\n",
    "    else:\n",
    "        gray = image  # Jika sudah grayscale, gunakan langsung\n",
    "    \n",
    "    # Mendefinisikan kernel sharpening (3x3)\n",
    "    kernel = np.array([\n",
    "        [0, -1, 0],\n",
    "        [-1, 5, -1],\n",
    "        [0, -1, 0]\n",
    "    ])\n",
    "    \n",
    "    # Melakukan operasi filter untuk sharpening\n",
    "    enhanced_img = cv2.filter2D(gray, -1, kernel)\n",
    "    \n",
    "    return enhanced_img\n",
    "\n",
    "# Fungsi untuk mendeteksi wajah dan cropping menggunakan dlib\n",
    "def detect_face_dlib(img):\n",
    "    # Pastikan citra memiliki 3 channel (RGB) sebelum melakukan konversi ke grayscale\n",
    "    if len(img.shape) == 3:\n",
    "        gray = cv2.cvtColor(img, cv2.COLOR_BGR2GRAY)\n",
    "    else:\n",
    "        gray = img  # Jika citra sudah grayscale, langsung digunakan\n",
    "    \n",
    "    # Detektor wajah dlib\n",
    "    detector = dlib.get_frontal_face_detector()\n",
    "    \n",
    "    # Prediktor landmarks wajah\n",
    "    predictor = dlib.shape_predictor(\"shape_predictor_68_face_landmarks.dat\")\n",
    "    \n",
    "    # Deteksi wajah\n",
    "    faces = detector(gray)\n",
    "    \n",
    "    if len(faces) == 0:\n",
    "        return None  # Jika tidak ada wajah terdeteksi\n",
    "    \n",
    "    # Ambil wajah pertama yang terdeteksi\n",
    "    face = faces[0]\n",
    "    \n",
    "    # Prediksi landmarks untuk wajah yang terdeteksi\n",
    "    landmarks = predictor(gray, face)\n",
    "    \n",
    "    # Mengambil koordinat landmarks wajah\n",
    "    landmarks_points = np.array([[p.x, p.y] for p in landmarks.parts()])\n",
    "    \n",
    "    # Menghitung convex hull dari landmarks wajah\n",
    "    convex_hull = ConvexHull(landmarks_points)\n",
    "    vertices = convex_hull.vertices\n",
    "    \n",
    "    # Membuat mask untuk wajah\n",
    "    mask = np.zeros(gray.shape, dtype=np.uint8)\n",
    "    cv2.fillPoly(mask, [landmarks_points[vertices]], 255)\n",
    "    \n",
    "    # Memotong wajah menggunakan bounding box dari mask\n",
    "    x, y, w, h = cv2.boundingRect(mask)\n",
    "    cropped_face = img[y:y+h, x:x+w]\n",
    "    \n",
    "    return cropped_face"
   ]
  },
  {
   "cell_type": "code",
   "execution_count": 5,
   "metadata": {},
   "outputs": [],
   "source": [
    "# Inisialisasi list untuk menyimpan data\n",
    "data = []\n",
    "\n",
    "# Mendapatkan daftar file gambar dalam folder dataset\n",
    "image_files = [f for f in os.listdir(dataset_path) if f.endswith((\".jpg\", \".png\"))]\n",
    "image_data_by_age = {}\n",
    "\n",
    "# Mengelompokkan gambar berdasarkan kategori umur\n",
    "for image_file in image_files:\n",
    "    parts = image_file.split('_')\n",
    "    age = int(parts[0])  # Mengambil usia dari nama file\n",
    "    age_category = categorize_age(age)\n",
    "    \n",
    "    if age_category != -1:\n",
    "        if age_category not in image_data_by_age:\n",
    "            image_data_by_age[age_category] = []\n",
    "        image_data_by_age[age_category].append(image_file)\n",
    "\n",
    "# Proses gambar yang ada untuk ekstraksi fitur\n",
    "for age_category, files in image_data_by_age.items():\n",
    "    for image_file in files:\n",
    "        image_path = os.path.join(dataset_path, image_file)\n",
    "        \n",
    "        # Baca gambar dan konversi ke grayscale\n",
    "        image = cv2.imread(image_path)\n",
    "        \n",
    "        # Menggunakan fungsi detect_face_dlib untuk mendeteksi wajah dan crop\n",
    "        cropped_face = detect_face_dlib(image)\n",
    "        \n",
    "        if cropped_face is not None:\n",
    "            # Lakukan enhancement pada gambar wajah yang sudah dipotong\n",
    "            enhanced_img = enhance_image(cropped_face)\n",
    "            \n",
    "            # Ekstraksi fitur LBP\n",
    "            lbp_features = extract_lbp_features(enhanced_img)\n",
    "            \n",
    "            # Menggabungkan label umur dan fitur LBP ke dalam list data\n",
    "            data.append([age_category] + lbp_features.tolist())\n"
   ]
  },
  {
   "cell_type": "code",
   "execution_count": 6,
   "metadata": {},
   "outputs": [],
   "source": [
    "# Konversi ke DataFrame Pandas dan simpan ke CSV\n",
    "df = pd.DataFrame(data, columns=['age_category'] + [f'pixel_{i}' for i in range(len(lbp_features))])\n",
    "df.to_csv(\"df_sampled.csv\", index=False)"
   ]
  },
  {
   "cell_type": "code",
   "execution_count": 7,
   "metadata": {},
   "outputs": [
    {
     "name": "stdout",
     "output_type": "stream",
     "text": [
      "   age_category   pixel_0   pixel_1   pixel_2   pixel_3   pixel_4   pixel_5  \\\n",
      "0             0  0.031879  0.030583  0.020494  0.020109  0.026309  0.038290   \n",
      "1             0  0.032653  0.034932  0.018776  0.016190  0.021122  0.027483   \n",
      "2             0  0.040900  0.040252  0.023737  0.017224  0.019941  0.026639   \n",
      "3             0  0.035656  0.034805  0.024156  0.019461  0.022897  0.030825   \n",
      "4             0  0.050546  0.050640  0.024528  0.015152  0.014562  0.017729   \n",
      "\n",
      "    pixel_6   pixel_7   pixel_8   pixel_9  pixel_10  pixel_11  pixel_12  \\\n",
      "0  0.051743  0.090664  0.098686  0.094833  0.057103  0.040042  0.029252   \n",
      "1  0.049218  0.087245  0.107857  0.096293  0.057109  0.034864  0.024898   \n",
      "2  0.037258  0.061366  0.074639  0.076614  0.040962  0.034325  0.023521   \n",
      "3  0.044672  0.077164  0.099483  0.091215  0.052872  0.037799  0.026946   \n",
      "4  0.025770  0.037817  0.045237  0.049211  0.031669  0.031266  0.022386   \n",
      "\n",
      "   pixel_13  pixel_14  pixel_15  pixel_16  pixel_17  \n",
      "0  0.021265  0.020984  0.025574  0.034542  0.267648  \n",
      "1  0.019354  0.019524  0.027245  0.037041  0.288197  \n",
      "2  0.023737  0.025590  0.035282  0.052877  0.345135  \n",
      "3  0.023986  0.023816  0.028511  0.040045  0.285690  \n",
      "4  0.028161  0.029775  0.046790  0.085103  0.393660  \n"
     ]
    }
   ],
   "source": [
    "# Membaca data dari CSV\n",
    "df = pd.read_csv(\"df_sampled.csv\")\n",
    "print(df.head())"
   ]
  },
  {
   "cell_type": "code",
   "execution_count": 8,
   "metadata": {},
   "outputs": [
    {
     "name": "stdout",
     "output_type": "stream",
     "text": [
      "age_category\n",
      "2    4187\n",
      "0    2994\n",
      "1    1005\n",
      "Name: count, dtype: int64\n"
     ]
    }
   ],
   "source": [
    "# Memeriksa distribusi kategori usia\n",
    "print(df['age_category'].value_counts())"
   ]
  },
  {
   "cell_type": "code",
   "execution_count": 32,
   "metadata": {},
   "outputs": [],
   "source": [
    "# Memisahkan fitur dan target\n",
    "X = df.drop(columns=['age_category'])\n",
    "y = df['age_category']\n",
    "\n",
    "# Menggunakan SMOTE untuk menyeimbangkan kategori\n",
    "smote = SMOTE(random_state=42)\n",
    "X_resampled, y_resampled = smote.fit_resample(X, y)\n",
    "\n",
    "# Split data yang telah diseimbangkan\n",
    "X_train, X_test, y_train, y_test = train_test_split(X_resampled, y_resampled, test_size=0.15, random_state=42)"
   ]
  },
  {
   "cell_type": "code",
   "execution_count": 33,
   "metadata": {},
   "outputs": [
    {
     "name": "stdout",
     "output_type": "stream",
     "text": [
      "Akurasi Model Random Forest: 79.04509283819628 %\n",
      "\n",
      "Classification Report:\n",
      "               precision    recall  f1-score   support\n",
      "\n",
      "           0       0.78      0.74      0.76       643\n",
      "           1       0.83      0.88      0.85       616\n",
      "           2       0.76      0.75      0.75       626\n",
      "\n",
      "    accuracy                           0.79      1885\n",
      "   macro avg       0.79      0.79      0.79      1885\n",
      "weighted avg       0.79      0.79      0.79      1885\n",
      "\n"
     ]
    }
   ],
   "source": [
    "# Inisialisasi model Random Forest dengan parameter awal\n",
    "model = RandomForestClassifier(n_estimators=200, random_state=42, class_weight='balanced')\n",
    "\n",
    "# Melatih model\n",
    "model.fit(X_train, y_train)\n",
    "\n",
    "# Evaluasi model\n",
    "y_pred = model.predict(X_test)\n",
    "accuracy = accuracy_score(y_test, y_pred)\n",
    "print(\"Akurasi Model Random Forest:\", accuracy * 100, \"%\")\n",
    "print(\"\\nClassification Report:\\n\", classification_report(y_test, y_pred))"
   ]
  },
  {
   "cell_type": "code",
   "execution_count": 16,
   "metadata": {},
   "outputs": [
    {
     "data": {
      "image/png": "[encoded data removed]",
      "text/plain": [
       "<Figure size 640x480 with 2 Axes>"
      ]
     },
     "metadata": {},
     "output_type": "display_data"
    }
   ],
   "source": [
    "# Confusion Matrix\n",
    "cm = confusion_matrix(y_test, y_pred)\n",
    "sns.heatmap(cm, annot=True, fmt='d', cmap='Blues', xticklabels=['Anak-anak', 'Remaja', 'Dewasa'], yticklabels=['Anak-anak', 'Remaja', 'Dewasa'])\n",
    "plt.xlabel('Prediksi')\n",
    "plt.ylabel('Sebenarnya')\n",
    "plt.show() "
   ]
  },
  {
   "cell_type": "code",
   "execution_count": 12,
   "metadata": {},
   "outputs": [
    {
     "data": {
      "text/plain": [
       "['famscreen_model.pkl']"
      ]
     },
     "execution_count": 12,
     "metadata": {},
     "output_type": "execute_result"
    }
   ],
   "source": [
    "# Menyimpan model\n",
    "joblib.dump(model, \"famscreen_model.pkl\") \n"
   ]
  },
  {
   "cell_type": "code",
   "execution_count": 13,
   "metadata": {},
   "outputs": [],
   "source": [
    "# Memuat model Random Forest yang telah disimpan\n",
    "model = joblib.load('famscreen_model.pkl')"
   ]
  },
  {
   "cell_type": "code",
   "execution_count": 14,
   "metadata": {},
   "outputs": [
    {
     "name": "stdout",
     "output_type": "stream",
     "text": [
      "[2 2 2 ... 0 0 0]\n"
     ]
    }
   ],
   "source": [
    "# Prediksi menggunakan model yang dimuat\n",
    "age_category_pred = model.predict(X_test)\n",
    "print(age_category_pred)"
   ]
  },
  {
   "cell_type": "code",
   "execution_count": 17,
   "metadata": {},
   "outputs": [
    {
     "name": "stdout",
     "output_type": "stream",
     "text": [
      "Kategori usia yang diprediksi: 2\n"
     ]
    },
    {
     "name": "stderr",
     "output_type": "stream",
     "text": [
      "/Volumes/Lexar E6/Projek/FamScreen_ML/penv/lib/python3.13/site-packages/sklearn/base.py:493: UserWarning: X does not have valid feature names, but RandomForestClassifier was fitted with feature names\n",
      "  warnings.warn(\n"
     ]
    }
   ],
   "source": [
    "import cv2\n",
    "import dlib\n",
    "import numpy as np\n",
    "import joblib\n",
    "from skimage.feature import local_binary_pattern\n",
    "\n",
    "# Fungsi untuk ekstraksi fitur LBP (seperti yang sudah dijelaskan sebelumnya)\n",
    "def extract_lbp_features(image, radius=2, n_points=16):\n",
    "    lbp = local_binary_pattern(image, n_points, radius, method=\"uniform\")\n",
    "    lbp_hist, _ = np.histogram(lbp.ravel(), bins=np.arange(0, n_points + 3), range=(0, n_points + 2))\n",
    "    lbp_hist = lbp_hist.astype(\"float\")\n",
    "    lbp_hist /= (lbp_hist.sum() + 1e-6)  # Normalisasi\n",
    "    return lbp_hist\n",
    "\n",
    "# Fungsi untuk mendeteksi wajah dan cropping menggunakan dlib\n",
    "def detect_face_dlib(img):\n",
    "    if len(img.shape) == 3:\n",
    "        gray = cv2.cvtColor(img, cv2.COLOR_BGR2GRAY)\n",
    "    else:\n",
    "        gray = img\n",
    "    \n",
    "    detector = dlib.get_frontal_face_detector()\n",
    "    predictor = dlib.shape_predictor(\"shape_predictor_68_face_landmarks.dat\")\n",
    "    \n",
    "    faces = detector(gray)\n",
    "    if len(faces) == 0:\n",
    "        return None  # Tidak ada wajah terdeteksi\n",
    "    \n",
    "    face = faces[0]\n",
    "    landmarks = predictor(gray, face)\n",
    "    landmarks_points = np.array([[p.x, p.y] for p in landmarks.parts()])\n",
    "    \n",
    "    convex_hull = ConvexHull(landmarks_points)\n",
    "    vertices = convex_hull.vertices\n",
    "    \n",
    "    mask = np.zeros(gray.shape, dtype=np.uint8)\n",
    "    cv2.fillPoly(mask, [landmarks_points[vertices]], 255)\n",
    "    \n",
    "    x, y, w, h = cv2.boundingRect(mask)\n",
    "    cropped_face = img[y:y+h, x:x+w]\n",
    "    \n",
    "    return cropped_face\n",
    "\n",
    "# Fungsi untuk memproses gambar dan memprediksi\n",
    "def predict_age_category(image_path, model):\n",
    "    # Baca gambar\n",
    "    image = cv2.imread(image_path)\n",
    "    \n",
    "    # Deteksi wajah dan crop gambar wajah\n",
    "    cropped_face = detect_face_dlib(image)\n",
    "    \n",
    "    if cropped_face is not None:\n",
    "        # Ekstraksi fitur LBP dari gambar wajah yang terdeteksi\n",
    "        enhanced_img = cv2.cvtColor(cropped_face, cv2.COLOR_BGR2GRAY)  # Pastikan gambar grayscale\n",
    "        lbp_features = extract_lbp_features(enhanced_img)\n",
    "        \n",
    "        # Prediksi kategori umur menggunakan model\n",
    "        lbp_features = np.array(lbp_features).reshape(1, -1)  # Ubah menjadi format 2D untuk prediksi\n",
    "        age_category_pred = model.predict(lbp_features)\n",
    "        \n",
    "        return age_category_pred[0]\n",
    "    else:\n",
    "        return None  # Tidak ada wajah terdeteksi\n",
    "\n",
    "# Memuat model yang sudah disimpan\n",
    "model = joblib.load('famscreen_model.pkl')\n",
    "\n",
    "# Contoh menggunakan gambar baru untuk prediksi\n",
    "image_path = \"Images/imageFile.jpg\"  # Ganti dengan path gambar yang ingin diuji\n",
    "predicted_age_category = predict_age_category(image_path, model)\n",
    "\n",
    "if predicted_age_category is not None:\n",
    "    print(f\"Kategori usia yang diprediksi: {predicted_age_category}\")\n",
    "else:\n",
    "    print(\"Tidak ada wajah terdeteksi dalam gambar.\")\n"
   ]
  }
 ],
 "metadata": {
  "kernelspec": {
   "display_name": "penv",
   "language": "python",
   "name": "python3"
  },
  "language_info": {
   "codemirror_mode": {
    "name": "ipython",
    "version": 3
   },
   "file_extension": ".py",
   "mimetype": "text/x-python",
   "name": "python",
   "nbconvert_exporter": "python",
   "pygments_lexer": "ipython3",
   "version": "3.13.0"
  }
 },
 "nbformat": 4,
 "nbformat_minor": 2
}
